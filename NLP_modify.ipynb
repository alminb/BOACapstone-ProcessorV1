{
 "cells": [
  {
   "cell_type": "code",
   "execution_count": 1,
   "id": "34639e56",
   "metadata": {},
   "outputs": [],
   "source": [
    "import os\n",
    "import pandas as pd\n",
    "from datetime import date"
   ]
  },
  {
   "cell_type": "code",
   "execution_count": 2,
   "id": "8bd407f4",
   "metadata": {},
   "outputs": [
    {
     "name": "stdout",
     "output_type": "stream",
     "text": [
      "2022-04-04\n"
     ]
    }
   ],
   "source": [
    "start_day = date.today()\n",
    "end_date = start_day\n",
    "print(end_date)"
   ]
  },
  {
   "cell_type": "code",
   "execution_count": 3,
   "id": "03446677",
   "metadata": {},
   "outputs": [],
   "source": [
    "search_term = '#bankofamerica'\n",
    "from_date = '2022-03-03'"
   ]
  },
  {
   "cell_type": "code",
   "execution_count": 4,
   "id": "cc86d6b1",
   "metadata": {},
   "outputs": [
    {
     "data": {
      "text/plain": [
       "0"
      ]
     },
     "execution_count": 4,
     "metadata": {},
     "output_type": "execute_result"
    }
   ],
   "source": [
    "os.system(f\"snscrape --since {from_date} twitter-search '{search_term} until:{end_date}' > result-tweets.txt\")\n"
   ]
  },
  {
   "cell_type": "code",
   "execution_count": 5,
   "id": "30b65016",
   "metadata": {},
   "outputs": [],
   "source": [
    "if os.stat(\"result-tweets.txt\").st_size == 0:\n",
    "          counter = 0\n",
    "else: \n",
    "          df = pd.read_csv('result-tweets.txt', names=['link'])\n",
    "          counter = df.size\n",
    "          \n"
   ]
  },
  {
   "cell_type": "code",
   "execution_count": 6,
   "id": "a3a7aa40",
   "metadata": {},
   "outputs": [
    {
     "name": "stdout",
     "output_type": "stream",
     "text": [
      "Number of Tweets : 884\n"
     ]
    }
   ],
   "source": [
    "print('Number of Tweets : ' + str(counter))"
   ]
  },
  {
   "cell_type": "code",
   "execution_count": 7,
   "id": "241fa108",
   "metadata": {},
   "outputs": [],
   "source": [
    "max_results = 150"
   ]
  },
  {
   "cell_type": "code",
   "execution_count": 8,
   "id": "a458272e",
   "metadata": {},
   "outputs": [
    {
     "name": "stdout",
     "output_type": "stream",
     "text": [
      "(0, \"'Bank of America https://t.co/vwFZKh5O8A #BankofAmerica'\")\n",
      "(1, \"'“Iron Mike” Tyson &amp; Bank of America (BoA) Back Solana (SOL) | by Stephen Dalton | B.O.S.S. |Medium - via @pensignal  https://t.co/4cgUKApzzB $SOL #Solana #BankofAmerica #MikeTyson @MikeTyson #cryptocurrencies  #writingservices #writerscommunity #medium #writerslift #SEO #Blogging'\")\n",
      "(2, \"'GameStop Stock Split Plan Announced: What You Need to Know #boardofdirectors #whatyouneed #bankofamerica #splitin #gamestop #stocksplit https://t.co/un5aS9tQYe'\")\n",
      "(3, \"'“Iron Mike” Tyson &amp; Bank of America (BoA) Back Solana (SOL) | by Stephen Dalton | B.O.S.S. |Medium - via @pensignal  https://t.co/JCPK8FlDtT $SOL #Solana #BankofAmerica #MikeTyson @MikeTyson #cryptocurrencies  #writingservices #writerscommunity #medium #writerslift #SEO #Blogging'\")\n",
      "(4, \"'#JPMorgan #Chase #WellsFargo #Citi #BankofAmerica\\\\n\\\\nProvided $742bn of financing to coal oil and gas last year (FT)\\\\n\\\\nAll members of so called “Net zero banking alliance”\\\\n\\\\nThe only net zero being how much fossil fuel they will leave in the ground…\\\\n\\\\n#climatecriminals'\")\n",
      "(5, \"'Bank of America https://t.co/Zj5cNyT4RG #BankofAmerica'\")\n",
      "(6, \"'🏧\\\\n#BankOfAmerica'\")\n",
      "(7, \"'@BankofAmerica is the worst banking experience ever. I bank at several companies\")\n",
      "(8, \"When the #bankofamerica promises to be showing clips of the next marvel movie...\\\\n\\\\nWhen is @Uber or @lyft going to start shuttling people's money to them?\\\\n\\\\n#milliondollaridea https://t.co/ozVsnMPoDk\")\n",
      "(9, \"It's the first weekend of the month which means Museums On Us by Bank of America is back! BOA cardholders get into Woolaroc for FREE today and tomorrow! Just show your card at the gate and come on in!\\\\n#museumsonus #bankofamerica https://t.co/sqXtD3Z6MN\")\n",
      "(10, \"'“Iron Mike” Tyson &amp; Bank of America (BoA) Back Solana (SOL) | by Stephen Dalton | B.O.S.S. |Medium - via @pensignal  https://t.co/qRDwIKtufQ $SOL #Solana #BankofAmerica #MikeTyson @MikeTyson #cryptocurrencies  #writingservices #writerscommunity #medium #writerslift #SEO #Blogging'\")\n",
      "(11, \"'#BANKNIFTY #SBIN #NIFTY \\\\nPredominantly\")\n",
      "(12, \"'Bank stocks took a large hit this week with $RY -3.19%\")\n",
      "(13, \"'#BankofAmerica'\")\n",
      "(14, \"'Bank of America (NYSE:BAC) Has Just Been Upgraded https://t.co/NgKdB9nLIX #bankofamerica #NYSEBAC'\")\n",
      "(15, \"'\\\\u2066@BankofAmerica\\\\u2069 2 hours\")\n",
      "(16, \"'One company is turning to cupcakes\")\n",
      "(17, \"This week, the Charlotte (North Carolina) GreenFaith Circle and friends met with @BankOfAmerica’s VP for Communications, Kelly Sapp, to deliver a petition with more than 100k signatures demanding #BankOfAmerica declare publicly it will not fund Formosa Plastics' new plant.\")\n",
      "(18, \"'One company is turning to cupcakes\")\n",
      "(19, \"'It’s almost time for the most spectacular party of the year\")\n",
      "(20, \"'This is no April fools joke! It’s @BankofAmerica #MuseumsOnUs weekend\")\n",
      "(21, \"'Anyone else having an issue with the @BankofAmerica app on #iOS? 15.3.1. https://t.co/wZsQICW9a4 - would suggest there are more affected? #BankOfAmerica #App #Down'\")\n",
      "(22, \"@KellyCNBC Why is there only one teller at the #BankofAmerica on 72nd St and 1st Ave? Yesterday, as the customer line grew, the bank manager opened a second window and became a bank teller. They can't find workers.\")\n",
      "(23, \"$BAC was the stock market's top loser yesterday, falling -4.14% #BankofAmerica #stockmarket #stock https://t.co/ZqmVCzEo4r\")\n",
      "(24, \"'$BAC in Uptrend: price expected to rise as it breaks its lower Bollinger Band on March 7\")\n",
      "(25, \"'$BAC  FWP  Bank Of America   (1 Apr\")\n",
      "(26, \"'@cmichelcarter Here’s a bit hint #bankofamerica most people like working from home and are more productive!'\")\n",
      "(27, \"'The Lucy Craft Laney Museum regretfully has to postpone the Grand Reopening celebration that was scheduled for April 19th. The good... https://t.co/vNTLmdtt8S\\\\n\\\\n#lucycraftlaneymuseumofblackhistory #lucycraftlaneymuseum #bankofamerica #loveaugusta #blackhistory #augustablackhistory https://t.co/idvlbqbMcZ'\")\n",
      "(28, \"'One company is turning to cupcakes\")\n",
      "(29, \"'#NYSE volume leaders:\\\\n#Didi Global Inc ( $DIDI) -\\\\n#Alibaba Group Holding ( $BABA) -\\\\n#Phillips66 Partners ( $PSXP) -\\\\n#Pretium Res Inc ( $PVG) -\\\\n#Ford Motor Company ( $F) Sell\\\\n#BankofAmerica Corp ( $BAC) Sell\\\\n#Tencent Music ( $TME) -\\\\n#Carnival Corp ( $CCL) -\\\\nhttps://t.co/x9fWQQFyFX'\")\n",
      "(30, \"'#bankofamerica is the worst institution ever. The run around you get when you finally get someone in the phone is unnerving. I am done.'\")\n",
      "(31, \"'One company is turning to cupcakes\")\n",
      "(32, \"'FK U\")\n",
      "(33, \"'Yesterday\")\n",
      "(34, \"'一周前美银市值被以太坊超过；刚刚美银宣布接受nft用于房屋贷款抵押。这可too cool for a traditional bank！#Ethereum  #crypto  #blockchain  #bankofamerica'\")\n",
      "(35, \"'One company is turning to cupcakes\")\n",
      "(36, \"'“Iron Mike” Tyson &amp; Bank of America (BoA) Back Solana (SOL) | by Stephen Dalton | B.O.S.S. |Medium - via @pensignal  https://t.co/nBPHKcpG5b $SOL #Solana #BankofAmerica #MikeTyson @MikeTyson #cryptocurrencies  #writingservices #writerscommunity #medium #writerslift #SEO #Blogging'\")\n",
      "(37, \"'Barclays raises U.S. minimum hourly wage to $20.50 #BankOfAmerica #BritishBankBarclaysPlc #MinimumWage #Workers #Employees  https://t.co/n8vYratZlO'\")\n",
      "(38, '\\'#BankOfAmerica loves #Disney stock. They own a ton of it. They said Disney is \" hitting it out of the park\".. with their stock.\\\\nIn fact ')\n",
      "(39, \"'S&amp;P 500 Cuts Some Losses\")\n",
      "(40, \"'The 2nd largest banking institution in the United States: The Bank of America was formed after the acquisition of ‘BankAmerica‘ by the ‘NationsBank\")\n",
      "(41, \"'One company is turning to cupcakes\")\n",
      "(42, \"'Companies sure don’t appreciate ur $. #vtech\")\n",
      "(43, '\\'Secondo gli analisti di \"Bank Of America\"')\n",
      "(44, \"'Is this a #PBS #history documentary by #KenBurns or an advertisement for #BankOfAmerica?\\\\nI stopped banking with #BOA years ago in favor of a smaller local bank. \\\\n@dwatchnews_nam @JeffSantosShow \\\\n@harveyjkaye https://t.co/lYwmi38cys'\")\n",
      "(45, \"'$BAC enters bearish trend #BankofAmerica #stockmarket #stock https://t.co/gHdYutJ8ed'\")\n",
      "(46, \"Mindblowing figures in this new report 'Banking on #climate chaos'. #Fossilfuel financing from the world’s 60 largest banks, including #JPMorganChase, #Citi, #WellsFargo, #BankofAmerica, #ING, #Rabobank, has reached USD $4.6 trillion since 'Paris'. https://t.co/RCtBZtWRsx\")\n",
      "(47, \"'Γιατί η #BankOfAmerica έχει ελκυστικό μέρισμα και που στηρίζεται $BAC\\\\n\\\\nhttps://t.co/i2Ka6jDsIr'\")\n",
      "(48, \"'“Iron Mike” Tyson &amp; Bank of America (BoA) Back Solana (SOL) | by Stephen Dalton | B.O.S.S. |Medium - via @pensignal  https://t.co/SCJrKbdGNB $SOL #Solana #BankofAmerica #MikeTyson @MikeTyson #cryptocurrencies  #writingservices #writerscommunity #medium #writerslift #SEO #Blogging'\")\n",
      "(49, \"'Bank Of America Awards $1 Million Grant To Detroit Employment Solutions Corporation https://t.co/pLUHFdG0g4 @BankofAmerica  #HR #HRTech #HRNews #HumanResources #HRTechNews #BankofAmerica'\")\n",
      "(50, \"'Bank of America &amp; Payday Loans — Learn About Payday Advances\\\\nhttps://t.co/x4iMEWDPcd\\\\n#bankofamerica #payday #cashadvance https://t.co/h3eow8OzRv'\")\n",
      "(51, \"'#fractionalreservebanking #banks #coldstorage #TrustNoOne #bankofamerica #Ledger #Trezor #GoldStandard'\")\n",
      "(52, \"So apparently @BankofAmerica won't help domestic abuse victims.\\\\n#DomesticViolence #bankofamerica\")\n",
      "(53, \"'.@BankOfAmerica is Formosa Plastics’ most important U.S. bank\")\n",
      "(54, \"'Please see my post “My long-awaited and longed day to be in front of justice April 11\")\n",
      "(55, \"'$BAC  FWP  Bank Of America   (30 Mar\")\n",
      "(56, \"'@BillyCorben @ChaseSupport You ought to deal with #bankofamerica! I dumped them for #TDBank!'\")\n",
      "(57, \"'$BAC #BANKOFAMERICA @BofA_News - 1H: La forte baisse à court terme sur BANK OF AMERICA vient remettre en cause la tendance de fond actuellement faiblement haussière sur cette unité de... https://t.co/8dxjfDigAz'\")\n",
      "(58, \"'$BAC #BANKOFAMERICA - 1H: La forte baisse à court terme sur BANK OF AMERICA vient remettre en cause la tendance de fond actuellement faiblement haussière sur cette unité de... https://t.co/CnxJ5w4KgQ'\")\n",
      "(59, \"@BankofAmerica Lol, I've been ghosted by @BofA_Help. Has that happened to anyone else? #bankofamerica has 55K of my money due to a typo on a visa payment 45 days ago and won't give it back.\")\n",
      "(60, \"'La seconda criptovaluta più capitalizzata\")\n",
      "(61, \"'Esa es la conclusión de los analistas de #BankofAmerica (BofA)\")\n",
      "(62, \"'La seconda criptovaluta più capitalizzata\")\n",
      "(63, \"'Public service announcement: if you@don’t want to have your banks account hijacked\")\n",
      "(64, \"'“Iron Mike” Tyson &amp; Bank of America (BoA) Back Solana (SOL) | by Stephen Dalton | B.O.S.S. |Medium - via @pensignal  https://t.co/r0wIY1HVZO $SOL #Solana #BankofAmerica #MikeTyson @MikeTyson #cryptocurrencies  #writingservices #writerscommunity #medium #writerslift #SEO #Blogging'\")\n",
      "(65, \"'$BAC enters bearish trend #BankofAmerica #stockmarket #stock https://t.co/wjvYdzo3jj'\")\n",
      "(66, \"'Dvouciferný růst amerických akcií vidíme jako epizodu v medvědím trhu\")\n",
      "(67, \"'$BAC in Uptrend: price may ascend as a result of having broken its lower Bollinger Band on March 7\")\n",
      "(68, \"'We're going to be all in':  Bank of America executive calls for stronger net zero push in response to geopolitical instability https://t.co/GlVFkaHcOH käyttäen @businessgreen \\\\n#BankOfAmerica #NetZeroPush  \\\\n@Vastuullisuus\")\n",
      "(69, \"'“Iron Mike” Tyson &amp; Bank of America (BoA) Back Solana (SOL) | by Stephen Dalton | B.O.S.S. |Medium - via @pensignal  https://t.co/qQpJyHf7NE $SOL #Solana #BankofAmerica #MikeTyson @MikeTyson #cryptocurrencies  #writingservices #writerscommunity #medium #writerslift #SEO #Blogging'\")\n",
      "(70, \"'When did #bankofamerica start doing monthly maintenance fees!?! Lol\\\\nAnd more importantly l\")\n",
      "(71, \"'$70 overdraft fees for a $12 transaction is not banking\")\n",
      "(72, \"I don't know why anyone would bank with Bank of America. I have spent over an hour trying to reach a live person to discuss an account I did not open! They are not customer friendly nor are they organized!!! If you need their fraud department number  1 8003176345.\\\\n#BankOfAmerica\")\n",
      "(73, \"'I would like to say that your bank system is ridiculous. You close accounts without warning\")\n",
      "(74, \"'@AltcoinGordon I will buy #bankofAmerica'\")\n",
      "(75, \"'Bank of America Emerging Growth Company Practice https://t.co/vJP6xbBMt6 #bankofamerica #bofa #bofaemerginggrowth #emerginggrowth #bofastartupservices https://t.co/8EFQBzlOux'\")\n",
      "(76, \"'👀 ¡Allí viene el lobo 🐺!\\\\nLos funcionarios de la #FED\")\n",
      "(77, \"'Bank of America Emerging Growth Company Practice https://t.co/gc1Drhl4it #bankofamerica #bofa #bofaemerginggrowth #emerginggrowth #bofastartupservices https://t.co/kfu6c4pQUr'\")\n",
      "(78, \"🏦 Why should investors consider #investing in financial #stocks? Let's discuss two largest US banks: #bankofamerica (BAC) and #JPMorgan (JPM) #StocksToTrade \\\\n⠀\\\\n👉 More details in the article - https://t.co/xO7jzNaxPo\\\\n⠀\\\\n71.24% of retail Derivatives accounts lose money\")\n",
      "(79, \"'$BAC enters bearish trend #BankofAmerica #stockmarket #stock https://t.co/m5QBJsKL1f'\")\n",
      "(80, \"'$BAC enters an Uptrend because Momentum Indicator exceeded the 0 level on March 17\")\n",
      "(81, \"'If #BANKOFAMERICA is in fact short 800 million ounces of #SILVER (and 30 million oz of #gold)\")\n",
      "(82, \"@BankofAmerica worst bank in the history of banks. Does NOT even trust their own checks. They don't even know when one of their branches are closed phhh #bankofamerica #bank #loans #realestate #realtor #avoid #money #MoneyControl #FYP #fypシ #YouTube\")\n",
      "(83, \"'#NYSE stocks Volume Leaders\\\\n#SouthwesternEnergy ( $SWN)Buy\\\\n#Ford Motor Company ( $F)Buy\\\\n#EnergyTransfer ( $ET)Buy\\\\n#Didi Global Inc ( $DIDI)Sell\\\\n#ATT Inc ( $T)Buy\\\\n#BankofAmerica Corp ( $BAC)Buy\\\\n#Carnival Corp ( $CCL)Buy\\\\n#Alibaba Group Holding ( $BABA)-\\\\nhttps://t.co/x9fWQQFyFX'\")\n",
      "(84, \"We spring forward even though each day still feels like winter... That's the mindset of a Chicagoan 🤪😉😜\\\\u2063\\\\u2063\\\\u2063\\\\n\\\\u2063\\\\u2063\\\\u2063\\\\nSigned up for the inaugural #BankOfAmerica @Chicago13_1 this June with ambitious goals in mind 😈 What's your next race?\\\\u2063\\\\u2063 ✶✶✶✶\\\\u2063 https://t.co/OMIbcLGUlM\")\n",
      "(85, \"'Why do I feel like a mention of #bankofamerica is about to follow that page. https://t.co/x62113j9mi'\")\n",
      "(86, \"'Sharing a special partnership with Bank of America. #bankofamerica #anwa2022 https://t.co/BhznJ0s9xY'\")\n",
      "(87, \"Mercator's Brian Riley unpacks the new secured card offered by #BankOfAmerica for small businesses. #SMB\\\\n\\\\nhttps://t.co/QmheZA8OcY\")\n",
      "(88, \"'Bank of America corta preço-alvo da JBS por expectativa queda no ebitda em 2022 https://t.co/wB1chCJtEW #BankOfAmerica #BoFA #JBS https://t.co/7XmPVxjiw4'\")\n",
      "(89, \"'BofA eleva preço-alvo com projeção de alta de 32% no lucro da BB Seguridade https://t.co/rMBLKdzi6y #BankOfAmerica #BBSeguridade #BoFA https://t.co/wIE09KxZOs'\")\n",
      "(90, \"'$BAC #BANKOFAMERICA - Täglich: Wir befinden uns derzeit in einer kurzfristigen Phase der Unentschlossenheit. In einem solchen Fall könnten wir Trades in Richtung des zugrunde... https://t.co/bZL9FEAmQ1'\")\n",
      "(91, \"'$BAC #BANKOFAMERICA - Täglich: Wir befinden uns derzeit in einer kurzfristigen Phase der Unentschlossenheit. In einem solchen Fall könnten wir Trades in Richtung des zugrunde... https://t.co/4EahzmlIbs'\")\n",
      "(92, '\\'\"#StreetWrap #Upgrades')\n",
      "(93, \"'#NYSE volume leaders:\\\\n#Didi Global Inc ( $DIDI) -\\\\n#Transocean Inc ( $RIG) -\\\\n#BankofAmerica Corp ( $BAC) Buy\\\\n#Alibaba Group Holding ( $BABA) -\\\\n#Monmouth Real Estate ( $MNR) -\\\\n#CreditSuisse Group ( $CS) Sell\\\\n#Citigroup Inc ( $C) Sell\\\\n#Anaplan Inc ( $PLAN) -\\\\nhttps://t.co/x9fWQQFyFX'\")\n",
      "(94, \"'Full Stack Developer at Bank of America\\\\nJob Description Bank of America is one of the worlds largest financial institutions serving individual consumer...\\\\n#Javascript #workingfromhome #bankofamerica\\\\nhttps://t.co/KMSCGYRcbb'\")\n",
      "(95, \"'$BAC in Uptrend: price may jump up because it broke its lower Bollinger Band on March 7\")\n",
      "(96, \"'$BAC in Uptrend: price expected to rise as it breaks its lower Bollinger Band on March 7\")\n",
      "(97, \"The market is flashing a buy signal suggesting stocks will rally one last time before an 'epic' selling opportunity in the 2nd-quarter, Bank of America says #bankofamerica https://t.co/dsG6S5kCuK\")\n",
      "(98, \"'Like\")\n",
      "(99, \"'Indian-American Manjusha Kulkarni\")\n",
      "(100, \"'The Zuck' Thought He Could Hide \\\\n\\\\nHis Connection to #Cypherium🇨🇳\\\\n\\\\nhttps://t.co/gv2JiAGNek\\\\n\\\\nThe Truth Revealed\\\\n\\\\n#Facebook #META $CPH #BankofAmerica https://t.co/HUV1vGbkP8\")\n",
      "(101, \"I'm still waiting to get my unemployment money back from Bank of America I'm currently living on the street because of them @BankofAmerica  #bankofamerica #californiaedd\")\n",
      "(102, \"'La capitalisation du #Bitcoin dépasse la capitalisation boursière de #JPMorgan  et #bankofamerica. https://t.co/659WrYMrdu'\")\n",
      "(103, \"'$BAC enters bearish trend #BankofAmerica #stockmarket #stock https://t.co/y4SbeSHQmI'\")\n",
      "(104, \"'$BAC in Uptrend: price may ascend as a result of having broken its lower Bollinger Band on March 7\")\n",
      "(105, \"'#bankofamerica 😡'\")\n",
      "(106, \"'#bankofamerica #CASHFRIDAY'\")\n",
      "(107, \"'@BankofAmerica JFC you stole $35.00 for 0.53 overdraft. Your crooks and should be treated like horse thieves…#bank #theft #fraud #bankofamerica'\")\n",
      "(108, \"'Stocks making the biggest moves midday: Bed Bath &amp; Beyond\")\n",
      "(109, \"#bankofamerica -- sucking since 1998. \\\\nI cannot, for the life of me, understand why people haven't run from those thieves like the plague.\")\n",
      "(110, \"'The Bank of America worker that just walks around when the line long as fuck and it’s only one teller be annoying as fuck!!! 😡😡 #bankofamerica'\")\n",
      "(111, \"How is #NeilYoung 's demand to pull your money out of #BankofAmerica working out?\")\n",
      "(112, \"@OctopusCaveman How is #NeilYoung 's demand to pull your money out of #BankofAmerica working out?\")\n",
      "(113, \"'$BAC  FWP  Bank Of America   (25 Mar\")\n",
      "(114, \"'#Economía Bancos en EE.UU esperan varios aumentos de la Fed de 50 puntos básicos #Citibank #BankofAmerica #TasasDeInterés https://t.co/5tzjLrFC8Q'\")\n",
      "(115, \"'@BofA_Help And the issue is not yet resolved - your atm takes $1k from me and day 4 still not resolved in my account. #bankofamerica'\")\n",
      "(116, \"'Bruce Jacobs\")\n",
      "(117, \"'Bank of America https://t.co/mShYs9V6sk #BankofAmerica'\")\n",
      "(118, \"'#bankofamerica shitting on the little guy. What’s your #boa story?'\")\n",
      "(119, \"'200-300 TL Kar etmek varken 50 TL alıp gidenler ordamısınız? Sizin surat ifadeninizi görmek isterdim.\\\\n#ENSRI #ensari #ensarideri #BankofAmerica https://t.co/Z0bagotOjp'\")\n",
      "(120, \"'2022-03-25 10:10 AM\\\\n$BAC #BankofAmerica up 1.57% = $5.59 billion gain.\\\\n\\\\nhttps://t.co/Ekq8nDnicN\\\\n(Mar 24) Bank of America (BAC) Stock Sinks As Market Gains: What You Should Know https://t.co/IR4y3v9lNw'\")\n",
      "(121, \"'📢 Los precios de las materias primas marcan el mejor año desde 1915 | #BankOfAmérica #MateriasPrimas #Ucrania #Economía #Minería @proactivoperu\\\\n👉 https://t.co/eXyCTA2i5y https://t.co/f3A5cejkk0'\")\n",
      "(122, \"'#energy and #investing &gt; Die größten #Geldgeber für fossile Energien sind laut Studie die US-Banken #JPMorgan\")\n",
      "(123, \"'#ChaseBank #WellsFargo #BankOfAmerica and #Citibank customers! Are you tired of your money being used to invest in the destruction of our #plantet Join me in signing-on to this letter to your bank CEO to demand that your bank stops funding #climate chaos: https://t.co/hmwxEpgXkV'\")\n",
      "(124, \"'#Ethereum surpasses #bankofamerica \")\n",
      "(125, \"'if you think money can’t buy the happiness\")\n",
      "(126, \"'Ethereum\")\n",
      "(127, \"'Perfect #Storm' is fueling more energy upside, says BofA's Savita Subramanian - https://t.co/8diTaxll1w - #America #Bank #BankOfAmerica #Money #Oil #Securities #Television #Ukraine #War\")\n",
      "(128, \"'$BAC in Uptrend: RSI indicator exits oversold zone. View odds for this and other indicators: https://t.co/GnU5RC1a4s #BankofAmerica #stockmarket #stock https://t.co/TsfBaoLSit'\")\n",
      "(129, \"'@KenBurns @BankofAmerica @PBS #PBS #bankofamerica https://t.co/Ml3qyqWSeK'\")\n",
      "(130, \"'Nvidia\")\n",
      "(131, \"The overall market capitalization of Ethereum (ETH) has skyrocketed as its price finally topped $3,000, eclipsing some of the world's largest financial organizations, including Bank of America (BoA) and Mastercard (NYSE: MA).\\\\n#ethereum #eth #mastercard #bankofamerica #cmnnews https://t.co/9cbVljAo2n\")\n",
      "(132, \"'#BankofAmerica \\\\n#DBSBank\\\\n#SBI https://t.co/uXbvhQlksC'\")\n",
      "(133, \"'Kulkarni co-founded the Stop AAPI hate campaign\")\n",
      "(134, \"'#Ethereum tiene una mayor Capitalización de Mercado que el #BankofAmerica 👀🔥 #ETH'\")\n",
      "(135, \"'#BankofAmerica spokesperson Kate Fernandez tweeted that she bought #BoredApeYachtClub #4097 for 103.9 #ETH and said Bank of America is closely following the #NFT topic https://t.co/qo5PrzuN6L'\")\n",
      "(136, '\\'Mike Wiley of \"One Noble Journey: A Box Marked Freedom\" spoke with our friends at QCity Metro about his show')\n",
      "(137, \"'Bank of America https://t.co/ibXMtNnWmz #BankofAmerica'\")\n",
      "(138, \"'Bank of America https://t.co/4ERMgxIqZ6 #BankofAmerica'\")\n",
      "(139, \"'#Ethereum surpasses #BankofAmerica\")\n",
      "(140, \"'#Ethereum surpasses #bankofamerica \")\n",
      "(141, \"@DarethPray @GoldsGym I dislike conflict too \\\\nConsider telling your full story on Twitter You have power. Use the hashtag #GoldsGym and also @goldsgym together in each tweet I've done that w/ #BankofAmerica\")\n",
      "(142, \"'In celebration of St. Patricks Day and to kick off the spring running season\")\n",
      "(143, \"'So it’s 200 days til #bankofamerica @ChiMarathon and it’s miles for Justice day 709 in a row of a 5k per day. I’m putting out good energy that somehow I’ll get into the 2022 #chicagomarathon 🤷🏾\\\\u200d♂️ I have to speak it into existence 🤞🏾 #runstreak #nodaysoff #marathon #ohwerun #5krun'\")\n",
      "(144, \"'@newsmax Outta be focused on the discrimination of unvaccinated employees instead by businesses like #WellsFargo #BankofAmerica #Amazon #Google'\")\n",
      "(145, \"#Ethereum 's overall market cap has skyrocketed, outpacing the world's largest financial institutions such as #BankofAmerica (BOA) and #Mastercard .\\\\n\\\\n#ETH $ETH\")\n",
      "(146, \"'#Ethereum surpasses #BankofAmerica \")\n",
      "(147, \"Amazing. I get that risk-free .60% at Citi. \\\\n\\\\nI'm going to SMOKE inflation now. 😂\\\\n\\\\nBut seriously though, .6% is pretty good. Beats Bank of America by literally .6%. \\\\n\\\\n#savingsaccount #citi #bankofamerica #inflation #checkingaccount $BAC https://t.co/n2tLQfbywp\")\n",
      "(148, \"'#bankofamerica fraud department is down been down all morning🤔'\")\n",
      "(149, \"'$BAC is down! Login in General\\\\n\\\\nIs #BankOfAmerica been under #DDoS attack? \\\\n\\\\n#Russia may take some money out of their accounts soon without asking #BofA ...\\\\n\\\\nWait and see... #Outage #PortalDown #BofADown #UkraineRussiaWar @BankofAmerica https://t.co/1jCmxpw1dQ'\")\n"
     ]
    }
   ],
   "source": [
    "extracted_tweets = \"snscrape --format '{content!r}'\"+ f\" --max-results {max_results} --since {from_date} twitter-search '{search_term} until:{end_date}' > extracted-tweets.txt\"\n",
    "os.system(extracted_tweets)\n",
    "if os.stat(\"extracted-tweets.txt\").st_size == 0:\n",
    "    print(\"No tweets found\")\n",
    "else: \n",
    "    df = pd.read_csv('extracted-tweets.txt', names=['content'])\n",
    "    for row in df['content'].iteritems():\n",
    "        print(row)"
   ]
  },
  {
   "cell_type": "code",
   "execution_count": 9,
   "id": "37c29738",
   "metadata": {},
   "outputs": [
    {
     "data": {
      "text/html": [
       "<div>\n",
       "<style scoped>\n",
       "    .dataframe tbody tr th:only-of-type {\n",
       "        vertical-align: middle;\n",
       "    }\n",
       "\n",
       "    .dataframe tbody tr th {\n",
       "        vertical-align: top;\n",
       "    }\n",
       "\n",
       "    .dataframe thead th {\n",
       "        text-align: right;\n",
       "    }\n",
       "</style>\n",
       "<table border=\"1\" class=\"dataframe\">\n",
       "  <thead>\n",
       "    <tr style=\"text-align: right;\">\n",
       "      <th></th>\n",
       "      <th>content</th>\n",
       "    </tr>\n",
       "  </thead>\n",
       "  <tbody>\n",
       "    <tr>\n",
       "      <th>0</th>\n",
       "      <td>'Bank of America https://t.co/vwFZKh5O8A #Bank...</td>\n",
       "    </tr>\n",
       "    <tr>\n",
       "      <th>1</th>\n",
       "      <td>'“Iron Mike” Tyson &amp;amp; Bank of America (BoA)...</td>\n",
       "    </tr>\n",
       "    <tr>\n",
       "      <th>2</th>\n",
       "      <td>'GameStop Stock Split Plan Announced: What You...</td>\n",
       "    </tr>\n",
       "  </tbody>\n",
       "</table>\n",
       "</div>"
      ],
      "text/plain": [
       "                                             content\n",
       "0  'Bank of America https://t.co/vwFZKh5O8A #Bank...\n",
       "1  '“Iron Mike” Tyson &amp; Bank of America (BoA)...\n",
       "2  'GameStop Stock Split Plan Announced: What You..."
      ]
     },
     "execution_count": 9,
     "metadata": {},
     "output_type": "execute_result"
    }
   ],
   "source": [
    "df.head(3)"
   ]
  },
  {
   "cell_type": "code",
   "execution_count": 10,
   "id": "525592f2",
   "metadata": {},
   "outputs": [
    {
     "name": "stderr",
     "output_type": "stream",
     "text": [
      "[nltk_data] Downloading package stopwords to\n",
      "[nltk_data]     /Users/yixuan/nltk_data...\n",
      "[nltk_data]   Package stopwords is already up-to-date!\n",
      "[nltk_data] Downloading package wordnet to /Users/yixuan/nltk_data...\n",
      "[nltk_data]   Package wordnet is already up-to-date!\n",
      "[nltk_data] Downloading package punkt to /Users/yixuan/nltk_data...\n",
      "[nltk_data]   Package punkt is already up-to-date!\n",
      "[nltk_data] Downloading package averaged_perceptron_tagger to\n",
      "[nltk_data]     /Users/yixuan/nltk_data...\n",
      "[nltk_data]   Package averaged_perceptron_tagger is already up-to-\n",
      "[nltk_data]       date!\n"
     ]
    }
   ],
   "source": [
    "\n",
    "import wordcloud\n",
    "from nltk.corpus import stopwords\n",
    "import nltk\n",
    "import string\n",
    "nltk.download('stopwords')\n",
    "nltk.download('wordnet')\n",
    "nltk.download('punkt')\n",
    "nltk.download('averaged_perceptron_tagger')\n",
    "stop = stopwords.words('english')"
   ]
  },
  {
   "cell_type": "code",
   "execution_count": 11,
   "id": "c8127c33",
   "metadata": {},
   "outputs": [],
   "source": [
    "df['stopwords'] = df['content'].apply(lambda x: len([x for x in x.split() if x in stop]))\n"
   ]
  },
  {
   "cell_type": "code",
   "execution_count": 12,
   "id": "b19283e9",
   "metadata": {},
   "outputs": [
    {
     "data": {
      "text/html": [
       "<div>\n",
       "<style scoped>\n",
       "    .dataframe tbody tr th:only-of-type {\n",
       "        vertical-align: middle;\n",
       "    }\n",
       "\n",
       "    .dataframe tbody tr th {\n",
       "        vertical-align: top;\n",
       "    }\n",
       "\n",
       "    .dataframe thead th {\n",
       "        text-align: right;\n",
       "    }\n",
       "</style>\n",
       "<table border=\"1\" class=\"dataframe\">\n",
       "  <thead>\n",
       "    <tr style=\"text-align: right;\">\n",
       "      <th></th>\n",
       "      <th>content</th>\n",
       "      <th>stopwords</th>\n",
       "    </tr>\n",
       "  </thead>\n",
       "  <tbody>\n",
       "    <tr>\n",
       "      <th>0</th>\n",
       "      <td>'Bank of America https://t.co/vwFZKh5O8A #Bank...</td>\n",
       "      <td>1</td>\n",
       "    </tr>\n",
       "    <tr>\n",
       "      <th>1</th>\n",
       "      <td>'“Iron Mike” Tyson &amp;amp; Bank of America (BoA)...</td>\n",
       "      <td>2</td>\n",
       "    </tr>\n",
       "    <tr>\n",
       "      <th>2</th>\n",
       "      <td>'GameStop Stock Split Plan Announced: What You...</td>\n",
       "      <td>1</td>\n",
       "    </tr>\n",
       "    <tr>\n",
       "      <th>3</th>\n",
       "      <td>'“Iron Mike” Tyson &amp;amp; Bank of America (BoA)...</td>\n",
       "      <td>2</td>\n",
       "    </tr>\n",
       "    <tr>\n",
       "      <th>4</th>\n",
       "      <td>'#JPMorgan #Chase #WellsFargo #Citi #BankofAme...</td>\n",
       "      <td>12</td>\n",
       "    </tr>\n",
       "  </tbody>\n",
       "</table>\n",
       "</div>"
      ],
      "text/plain": [
       "                                             content  stopwords\n",
       "0  'Bank of America https://t.co/vwFZKh5O8A #Bank...          1\n",
       "1  '“Iron Mike” Tyson &amp; Bank of America (BoA)...          2\n",
       "2  'GameStop Stock Split Plan Announced: What You...          1\n",
       "3  '“Iron Mike” Tyson &amp; Bank of America (BoA)...          2\n",
       "4  '#JPMorgan #Chase #WellsFargo #Citi #BankofAme...         12"
      ]
     },
     "execution_count": 12,
     "metadata": {},
     "output_type": "execute_result"
    }
   ],
   "source": [
    "df[['content','stopwords']].head()"
   ]
  },
  {
   "cell_type": "code",
   "execution_count": 13,
   "id": "ab3d1224",
   "metadata": {},
   "outputs": [],
   "source": [
    "def count_punct(text):\n",
    "    count = sum([1 for char in text if char in string.punctuation])\n",
    "    return count"
   ]
  },
  {
   "cell_type": "code",
   "execution_count": 14,
   "id": "2229fefa",
   "metadata": {},
   "outputs": [],
   "source": [
    "df['punctuation'] = df['content'].apply(lambda x: count_punct(x))"
   ]
  },
  {
   "cell_type": "code",
   "execution_count": 15,
   "id": "e9d54d34",
   "metadata": {},
   "outputs": [
    {
     "data": {
      "text/html": [
       "<div>\n",
       "<style scoped>\n",
       "    .dataframe tbody tr th:only-of-type {\n",
       "        vertical-align: middle;\n",
       "    }\n",
       "\n",
       "    .dataframe tbody tr th {\n",
       "        vertical-align: top;\n",
       "    }\n",
       "\n",
       "    .dataframe thead th {\n",
       "        text-align: right;\n",
       "    }\n",
       "</style>\n",
       "<table border=\"1\" class=\"dataframe\">\n",
       "  <thead>\n",
       "    <tr style=\"text-align: right;\">\n",
       "      <th></th>\n",
       "      <th>content</th>\n",
       "      <th>punctuation</th>\n",
       "    </tr>\n",
       "  </thead>\n",
       "  <tbody>\n",
       "    <tr>\n",
       "      <th>0</th>\n",
       "      <td>'Bank of America https://t.co/vwFZKh5O8A #Bank...</td>\n",
       "      <td>8</td>\n",
       "    </tr>\n",
       "    <tr>\n",
       "      <th>1</th>\n",
       "      <td>'“Iron Mike” Tyson &amp;amp; Bank of America (BoA)...</td>\n",
       "      <td>34</td>\n",
       "    </tr>\n",
       "    <tr>\n",
       "      <th>2</th>\n",
       "      <td>'GameStop Stock Split Plan Announced: What You...</td>\n",
       "      <td>14</td>\n",
       "    </tr>\n",
       "    <tr>\n",
       "      <th>3</th>\n",
       "      <td>'“Iron Mike” Tyson &amp;amp; Bank of America (BoA)...</td>\n",
       "      <td>34</td>\n",
       "    </tr>\n",
       "    <tr>\n",
       "      <th>4</th>\n",
       "      <td>'#JPMorgan #Chase #WellsFargo #Citi #BankofAme...</td>\n",
       "      <td>19</td>\n",
       "    </tr>\n",
       "  </tbody>\n",
       "</table>\n",
       "</div>"
      ],
      "text/plain": [
       "                                             content  punctuation\n",
       "0  'Bank of America https://t.co/vwFZKh5O8A #Bank...            8\n",
       "1  '“Iron Mike” Tyson &amp; Bank of America (BoA)...           34\n",
       "2  'GameStop Stock Split Plan Announced: What You...           14\n",
       "3  '“Iron Mike” Tyson &amp; Bank of America (BoA)...           34\n",
       "4  '#JPMorgan #Chase #WellsFargo #Citi #BankofAme...           19"
      ]
     },
     "execution_count": 15,
     "metadata": {},
     "output_type": "execute_result"
    }
   ],
   "source": [
    "df[['content','punctuation']].head()"
   ]
  },
  {
   "cell_type": "code",
   "execution_count": 16,
   "id": "86eacee9",
   "metadata": {},
   "outputs": [],
   "source": [
    "df['hastags'] = df['content'].apply(lambda x: len([x for x in x.split() if x.startswith('#')]))"
   ]
  },
  {
   "cell_type": "code",
   "execution_count": 17,
   "id": "88c14854",
   "metadata": {},
   "outputs": [
    {
     "data": {
      "text/html": [
       "<div>\n",
       "<style scoped>\n",
       "    .dataframe tbody tr th:only-of-type {\n",
       "        vertical-align: middle;\n",
       "    }\n",
       "\n",
       "    .dataframe tbody tr th {\n",
       "        vertical-align: top;\n",
       "    }\n",
       "\n",
       "    .dataframe thead th {\n",
       "        text-align: right;\n",
       "    }\n",
       "</style>\n",
       "<table border=\"1\" class=\"dataframe\">\n",
       "  <thead>\n",
       "    <tr style=\"text-align: right;\">\n",
       "      <th></th>\n",
       "      <th>content</th>\n",
       "      <th>hastags</th>\n",
       "    </tr>\n",
       "  </thead>\n",
       "  <tbody>\n",
       "    <tr>\n",
       "      <th>0</th>\n",
       "      <td>'Bank of America https://t.co/vwFZKh5O8A #Bank...</td>\n",
       "      <td>1</td>\n",
       "    </tr>\n",
       "    <tr>\n",
       "      <th>1</th>\n",
       "      <td>'“Iron Mike” Tyson &amp;amp; Bank of America (BoA)...</td>\n",
       "      <td>10</td>\n",
       "    </tr>\n",
       "    <tr>\n",
       "      <th>2</th>\n",
       "      <td>'GameStop Stock Split Plan Announced: What You...</td>\n",
       "      <td>6</td>\n",
       "    </tr>\n",
       "    <tr>\n",
       "      <th>3</th>\n",
       "      <td>'“Iron Mike” Tyson &amp;amp; Bank of America (BoA)...</td>\n",
       "      <td>10</td>\n",
       "    </tr>\n",
       "    <tr>\n",
       "      <th>4</th>\n",
       "      <td>'#JPMorgan #Chase #WellsFargo #Citi #BankofAme...</td>\n",
       "      <td>4</td>\n",
       "    </tr>\n",
       "  </tbody>\n",
       "</table>\n",
       "</div>"
      ],
      "text/plain": [
       "                                             content  hastags\n",
       "0  'Bank of America https://t.co/vwFZKh5O8A #Bank...        1\n",
       "1  '“Iron Mike” Tyson &amp; Bank of America (BoA)...       10\n",
       "2  'GameStop Stock Split Plan Announced: What You...        6\n",
       "3  '“Iron Mike” Tyson &amp; Bank of America (BoA)...       10\n",
       "4  '#JPMorgan #Chase #WellsFargo #Citi #BankofAme...        4"
      ]
     },
     "execution_count": 17,
     "metadata": {},
     "output_type": "execute_result"
    }
   ],
   "source": [
    "df[['content','hastags']].head()"
   ]
  },
  {
   "cell_type": "code",
   "execution_count": 18,
   "id": "6b8314d0",
   "metadata": {},
   "outputs": [
    {
     "data": {
      "text/plain": [
       "98"
      ]
     },
     "execution_count": 18,
     "metadata": {},
     "output_type": "execute_result"
    }
   ],
   "source": [
    "df.hastags.loc[df.hastags != 0].count()"
   ]
  },
  {
   "cell_type": "code",
   "execution_count": 19,
   "id": "61f2f49d",
   "metadata": {},
   "outputs": [],
   "source": [
    "df['numerics'] = df['content'].apply(lambda x: len([x for x in x.split() if x.isdigit()]))\n"
   ]
  },
  {
   "cell_type": "code",
   "execution_count": 20,
   "id": "764badfe",
   "metadata": {},
   "outputs": [
    {
     "data": {
      "text/html": [
       "<div>\n",
       "<style scoped>\n",
       "    .dataframe tbody tr th:only-of-type {\n",
       "        vertical-align: middle;\n",
       "    }\n",
       "\n",
       "    .dataframe tbody tr th {\n",
       "        vertical-align: top;\n",
       "    }\n",
       "\n",
       "    .dataframe thead th {\n",
       "        text-align: right;\n",
       "    }\n",
       "</style>\n",
       "<table border=\"1\" class=\"dataframe\">\n",
       "  <thead>\n",
       "    <tr style=\"text-align: right;\">\n",
       "      <th></th>\n",
       "      <th>content</th>\n",
       "      <th>numerics</th>\n",
       "    </tr>\n",
       "  </thead>\n",
       "  <tbody>\n",
       "    <tr>\n",
       "      <th>0</th>\n",
       "      <td>'Bank of America https://t.co/vwFZKh5O8A #Bank...</td>\n",
       "      <td>0</td>\n",
       "    </tr>\n",
       "    <tr>\n",
       "      <th>1</th>\n",
       "      <td>'“Iron Mike” Tyson &amp;amp; Bank of America (BoA)...</td>\n",
       "      <td>0</td>\n",
       "    </tr>\n",
       "    <tr>\n",
       "      <th>2</th>\n",
       "      <td>'GameStop Stock Split Plan Announced: What You...</td>\n",
       "      <td>0</td>\n",
       "    </tr>\n",
       "    <tr>\n",
       "      <th>3</th>\n",
       "      <td>'“Iron Mike” Tyson &amp;amp; Bank of America (BoA)...</td>\n",
       "      <td>0</td>\n",
       "    </tr>\n",
       "    <tr>\n",
       "      <th>4</th>\n",
       "      <td>'#JPMorgan #Chase #WellsFargo #Citi #BankofAme...</td>\n",
       "      <td>0</td>\n",
       "    </tr>\n",
       "  </tbody>\n",
       "</table>\n",
       "</div>"
      ],
      "text/plain": [
       "                                             content  numerics\n",
       "0  'Bank of America https://t.co/vwFZKh5O8A #Bank...         0\n",
       "1  '“Iron Mike” Tyson &amp; Bank of America (BoA)...         0\n",
       "2  'GameStop Stock Split Plan Announced: What You...         0\n",
       "3  '“Iron Mike” Tyson &amp; Bank of America (BoA)...         0\n",
       "4  '#JPMorgan #Chase #WellsFargo #Citi #BankofAme...         0"
      ]
     },
     "execution_count": 20,
     "metadata": {},
     "output_type": "execute_result"
    }
   ],
   "source": [
    "df[['content','numerics']].head()"
   ]
  },
  {
   "cell_type": "code",
   "execution_count": 21,
   "id": "65004357",
   "metadata": {},
   "outputs": [],
   "source": [
    "df['upper'] = df['content'].apply(lambda x: len([x for x in x.split() if x.isupper()]))"
   ]
  },
  {
   "cell_type": "code",
   "execution_count": 22,
   "id": "51c0b9e5",
   "metadata": {},
   "outputs": [
    {
     "data": {
      "text/html": [
       "<div>\n",
       "<style scoped>\n",
       "    .dataframe tbody tr th:only-of-type {\n",
       "        vertical-align: middle;\n",
       "    }\n",
       "\n",
       "    .dataframe tbody tr th {\n",
       "        vertical-align: top;\n",
       "    }\n",
       "\n",
       "    .dataframe thead th {\n",
       "        text-align: right;\n",
       "    }\n",
       "</style>\n",
       "<table border=\"1\" class=\"dataframe\">\n",
       "  <thead>\n",
       "    <tr style=\"text-align: right;\">\n",
       "      <th></th>\n",
       "      <th>content</th>\n",
       "      <th>upper</th>\n",
       "    </tr>\n",
       "  </thead>\n",
       "  <tbody>\n",
       "    <tr>\n",
       "      <th>0</th>\n",
       "      <td>'Bank of America https://t.co/vwFZKh5O8A #Bank...</td>\n",
       "      <td>0</td>\n",
       "    </tr>\n",
       "    <tr>\n",
       "      <th>1</th>\n",
       "      <td>'“Iron Mike” Tyson &amp;amp; Bank of America (BoA)...</td>\n",
       "      <td>4</td>\n",
       "    </tr>\n",
       "    <tr>\n",
       "      <th>2</th>\n",
       "      <td>'GameStop Stock Split Plan Announced: What You...</td>\n",
       "      <td>0</td>\n",
       "    </tr>\n",
       "    <tr>\n",
       "      <th>3</th>\n",
       "      <td>'“Iron Mike” Tyson &amp;amp; Bank of America (BoA)...</td>\n",
       "      <td>4</td>\n",
       "    </tr>\n",
       "    <tr>\n",
       "      <th>4</th>\n",
       "      <td>'#JPMorgan #Chase #WellsFargo #Citi #BankofAme...</td>\n",
       "      <td>0</td>\n",
       "    </tr>\n",
       "  </tbody>\n",
       "</table>\n",
       "</div>"
      ],
      "text/plain": [
       "                                             content  upper\n",
       "0  'Bank of America https://t.co/vwFZKh5O8A #Bank...      0\n",
       "1  '“Iron Mike” Tyson &amp; Bank of America (BoA)...      4\n",
       "2  'GameStop Stock Split Plan Announced: What You...      0\n",
       "3  '“Iron Mike” Tyson &amp; Bank of America (BoA)...      4\n",
       "4  '#JPMorgan #Chase #WellsFargo #Citi #BankofAme...      0"
      ]
     },
     "execution_count": 22,
     "metadata": {},
     "output_type": "execute_result"
    }
   ],
   "source": [
    "df[['content','upper']].head()"
   ]
  },
  {
   "cell_type": "code",
   "execution_count": 23,
   "id": "7a40dad2",
   "metadata": {},
   "outputs": [
    {
     "data": {
      "text/plain": [
       "0    'bank of america https://t.co/vwfzkh5o8a #bank...\n",
       "1    '“iron mike” tyson &amp; bank of america (boa)...\n",
       "2    'gamestop stock split plan announced: what you...\n",
       "3    '“iron mike” tyson &amp; bank of america (boa)...\n",
       "4    '#jpmorgan #chase #wellsfargo #citi #bankofame...\n",
       "Name: content, dtype: object"
      ]
     },
     "execution_count": 23,
     "metadata": {},
     "output_type": "execute_result"
    }
   ],
   "source": [
    "df['content'] = df['content'].apply(lambda x: \" \".join(x.lower() for x in x.split()))\n",
    "df['content'].head()"
   ]
  },
  {
   "cell_type": "code",
   "execution_count": 24,
   "id": "a4a3df1a",
   "metadata": {},
   "outputs": [
    {
     "name": "stderr",
     "output_type": "stream",
     "text": [
      "<ipython-input-24-9e5ee19e9252>:1: FutureWarning: The default value of regex will change from True to False in a future version.\n",
      "  df['content'] = df['content'].str.replace('[^\\w\\s]','')\n"
     ]
    },
    {
     "data": {
      "text/plain": [
       "0     bank of america httpstcovwfzkh5o8a bankofamerica\n",
       "1    iron mike tyson amp bank of america boa back s...\n",
       "2    gamestop stock split plan announced what you n...\n",
       "3    iron mike tyson amp bank of america boa back s...\n",
       "4    jpmorgan chase wellsfargo citi bankofamericann...\n",
       "Name: content, dtype: object"
      ]
     },
     "execution_count": 24,
     "metadata": {},
     "output_type": "execute_result"
    }
   ],
   "source": [
    "df['content'] = df['content'].str.replace('[^\\w\\s]','')\n",
    "df['content'].head()"
   ]
  },
  {
   "cell_type": "code",
   "execution_count": 25,
   "id": "e38fd01e",
   "metadata": {},
   "outputs": [],
   "source": [
    "from nltk.corpus import stopwords\n",
    "stop = stopwords.words('english')\n",
    "df['content'] = df['content'].apply(lambda x: \" \".join(x for x in x.split() if x not in stop))"
   ]
  },
  {
   "cell_type": "code",
   "execution_count": 26,
   "id": "53c76301",
   "metadata": {},
   "outputs": [
    {
     "data": {
      "text/plain": [
       "101    im still waiting get unemployment money back b...\n",
       "140                     ethereum surpasses bankofamerica\n",
       "113                          bac fwp bank america 25 mar\n",
       "138        bank america httpstco4ermgxiqz6 bankofamerica\n",
       "127    perfect storm fueling energy upside says bofas...\n",
       "67     bac uptrend price may ascend result broken low...\n",
       "32                                                  fk u\n",
       "146                     ethereum surpasses bankofamerica\n",
       "118    bankofamerica shitting little guy whats boa story\n",
       "7      bankofamerica worst banking experience ever ba...\n",
       "Name: content, dtype: object"
      ]
     },
     "execution_count": 26,
     "metadata": {},
     "output_type": "execute_result"
    }
   ],
   "source": [
    "df['content'].sample(10)"
   ]
  },
  {
   "cell_type": "code",
   "execution_count": 27,
   "id": "c4b1b4ed",
   "metadata": {},
   "outputs": [],
   "source": [
    "def remove_url(text):\n",
    "    url = re.compile(r'https?://\\S+|www\\.\\S+')\n",
    "    return url.sub(r'', text)"
   ]
  },
  {
   "cell_type": "code",
   "execution_count": 28,
   "id": "8fafd265",
   "metadata": {},
   "outputs": [],
   "source": [
    "import re\n",
    "import string\n",
    "\n",
    "df['content'] = df['content'].apply(lambda x: remove_url(x))"
   ]
  },
  {
   "cell_type": "code",
   "execution_count": 29,
   "id": "dbd979de",
   "metadata": {},
   "outputs": [],
   "source": [
    "def remove_html(text):\n",
    "    html=re.compile(r'<.*?>')\n",
    "    return html.sub(r'',text)"
   ]
  },
  {
   "cell_type": "code",
   "execution_count": 30,
   "id": "2366ae6f",
   "metadata": {},
   "outputs": [],
   "source": [
    "df['content'] = df['content'].apply(lambda x: remove_html(x))"
   ]
  },
  {
   "cell_type": "code",
   "execution_count": 37,
   "id": "d673bff9",
   "metadata": {},
   "outputs": [],
   "source": [
    "def remove_emoji(text):\n",
    "    emoji_pattern = re.compile(\"[\"\n",
    "                           u\"\\U0001F600-\\U0001F64F\"  # emoticons\n",
    "                           u\"\\U0001F300-\\U0001F5FF\"  # symbols & pictographs\n",
    "                           u\"\\U0001F680-\\U0001F6FF\"  # transport & map symbols\n",
    "                           u\"\\U0001F1E0-\\U0001F1FF\"  # flags \n",
    "                           u\"\\U00002702-\\U000027B0\"\n",
    "                           u\"\\U000024C2-\\U0001F251\"\n",
    "                           \"]+\", flags=re.UNICODE)\n",
    "    return emoji_pattern.sub(r'', text)"
   ]
  },
  {
   "cell_type": "code",
   "execution_count": 32,
   "id": "c48e91bb",
   "metadata": {},
   "outputs": [],
   "source": [
    "# remove all emojis from df\n",
    "df['content'] = df['content'].apply(lambda x: remove_emoji(x))"
   ]
  },
  {
   "cell_type": "code",
   "execution_count": 41,
   "id": "5d13a482",
   "metadata": {},
   "outputs": [
    {
     "data": {
      "text/plain": [
       "0        bank america httpstcovwfzkh5o8a bankofamerica\n",
       "1    iron mike son amp bank america boa back poland...\n",
       "2    gamestop stock split plan announced need know ...\n",
       "3    iron mike son amp bank america boa back poland...\n",
       "4    morgan chase wellsfargo city bankofamericannpr...\n",
       "Name: content, dtype: object"
      ]
     },
     "execution_count": 41,
     "metadata": {},
     "output_type": "execute_result"
    }
   ],
   "source": [
    "from textblob import TextBlob\n",
    "df['content'][:5].apply(lambda x: str(TextBlob(x).correct()))"
   ]
  },
  {
   "cell_type": "code",
   "execution_count": 42,
   "id": "fff61e8e",
   "metadata": {},
   "outputs": [],
   "source": [
    "import re\n",
    "import string\n",
    "\n",
    "def clean_text_round1(text):\n",
    "    '''Make text lowercase, remove text in square brackets, remove punctuation and remove words containing numbers.'''\n",
    "    text = text.lower()\n",
    "    text = re.sub('\\[.*?\\]', '', text)\n",
    "    text = re.sub('[%s]' % re.escape(string.punctuation), '', text)\n",
    "    text = re.sub('\\w*\\d\\w*', '', text)\n",
    "    return text\n",
    "\n",
    "round1 = lambda x: clean_text_round1(x)"
   ]
  },
  {
   "cell_type": "code",
   "execution_count": 45,
   "id": "3b0c6a69",
   "metadata": {},
   "outputs": [],
   "source": [
    "df['content'] = df.content.apply(round1)\n"
   ]
  },
  {
   "cell_type": "code",
   "execution_count": 46,
   "id": "74610151",
   "metadata": {},
   "outputs": [
    {
     "data": {
      "text/plain": [
       "0                            bank america  bankofamerica\n",
       "1      iron mike tyson amp bank america boa back sola...\n",
       "2      gamestop stock split plan announced need know ...\n",
       "3      iron mike tyson amp bank america boa back sola...\n",
       "4      jpmorgan chase wellsfargo citi bankofamericann...\n",
       "                             ...                        \n",
       "145    ethereum overall market cap skyrocketed outpac...\n",
       "146                     ethereum surpasses bankofamerica\n",
       "147    amazing get riskfree  citi nnim going smoke in...\n",
       "148               bankofamerica fraud department morning\n",
       "149    bac login generalnnis bankofamerica ddos attac...\n",
       "Name: content, Length: 150, dtype: object"
      ]
     },
     "execution_count": 46,
     "metadata": {},
     "output_type": "execute_result"
    }
   ],
   "source": [
    "df.content"
   ]
  },
  {
   "cell_type": "code",
   "execution_count": 47,
   "id": "41e19b40",
   "metadata": {},
   "outputs": [],
   "source": [
    "def clean_text_round2(text):\n",
    "    text = re.sub('[‘’“”…]', '', text)\n",
    "    text = re.sub('\\n', '', text)\n",
    "    return text\n",
    "\n",
    "round2 = lambda x: clean_text_round2(x)"
   ]
  },
  {
   "cell_type": "code",
   "execution_count": 48,
   "id": "b67d96ff",
   "metadata": {},
   "outputs": [
    {
     "data": {
      "text/plain": [
       "0                            bank america  bankofamerica\n",
       "1      iron mike tyson amp bank america boa back sola...\n",
       "2      gamestop stock split plan announced need know ...\n",
       "3      iron mike tyson amp bank america boa back sola...\n",
       "4      jpmorgan chase wellsfargo citi bankofamericann...\n",
       "                             ...                        \n",
       "145    ethereum overall market cap skyrocketed outpac...\n",
       "146                     ethereum surpasses bankofamerica\n",
       "147    amazing get riskfree  citi nnim going smoke in...\n",
       "148               bankofamerica fraud department morning\n",
       "149    bac login generalnnis bankofamerica ddos attac...\n",
       "Name: content, Length: 150, dtype: object"
      ]
     },
     "execution_count": 48,
     "metadata": {},
     "output_type": "execute_result"
    }
   ],
   "source": [
    "df['content'] = df.content.apply(round2)\n",
    "df.content"
   ]
  },
  {
   "cell_type": "code",
   "execution_count": 49,
   "id": "27f493b5",
   "metadata": {},
   "outputs": [
    {
     "data": {
      "text/plain": [
       "bankofamerica    103\n",
       "bank              51\n",
       "america           38\n",
       "bac               25\n",
       "sol               14\n",
       "miketyson         14\n",
       "medium            14\n",
       "solana            14\n",
       "de                14\n",
       "boa               12\n",
       "one               12\n",
       "money             11\n",
       "la                11\n",
       "stock             10\n",
       "back              10\n",
       "company           10\n",
       "amp                9\n",
       "inc                8\n",
       "mike               8\n",
       "ethereum           8\n",
       "dtype: int64"
      ]
     },
     "execution_count": 49,
     "metadata": {},
     "output_type": "execute_result"
    }
   ],
   "source": [
    "freq = pd.Series(' '.join(df['content']).split()).value_counts()[:20]\n",
    "freq"
   ]
  },
  {
   "cell_type": "code",
   "execution_count": 51,
   "id": "83c29356",
   "metadata": {},
   "outputs": [
    {
     "data": {
      "text/html": [
       "<div>\n",
       "<style scoped>\n",
       "    .dataframe tbody tr th:only-of-type {\n",
       "        vertical-align: middle;\n",
       "    }\n",
       "\n",
       "    .dataframe tbody tr th {\n",
       "        vertical-align: top;\n",
       "    }\n",
       "\n",
       "    .dataframe thead th {\n",
       "        text-align: right;\n",
       "    }\n",
       "</style>\n",
       "<table border=\"1\" class=\"dataframe\">\n",
       "  <thead>\n",
       "    <tr style=\"text-align: right;\">\n",
       "      <th></th>\n",
       "      <th>content</th>\n",
       "      <th>word_count</th>\n",
       "    </tr>\n",
       "  </thead>\n",
       "  <tbody>\n",
       "    <tr>\n",
       "      <th>0</th>\n",
       "      <td>bank america  bankofamerica</td>\n",
       "      <td>4</td>\n",
       "    </tr>\n",
       "    <tr>\n",
       "      <th>1</th>\n",
       "      <td>iron mike tyson amp bank america boa back sola...</td>\n",
       "      <td>29</td>\n",
       "    </tr>\n",
       "    <tr>\n",
       "      <th>2</th>\n",
       "      <td>gamestop stock split plan announced need know ...</td>\n",
       "      <td>14</td>\n",
       "    </tr>\n",
       "    <tr>\n",
       "      <th>3</th>\n",
       "      <td>iron mike tyson amp bank america boa back sola...</td>\n",
       "      <td>29</td>\n",
       "    </tr>\n",
       "    <tr>\n",
       "      <th>4</th>\n",
       "      <td>jpmorgan chase wellsfargo citi bankofamericann...</td>\n",
       "      <td>26</td>\n",
       "    </tr>\n",
       "  </tbody>\n",
       "</table>\n",
       "</div>"
      ],
      "text/plain": [
       "                                             content  word_count\n",
       "0                        bank america  bankofamerica           4\n",
       "1  iron mike tyson amp bank america boa back sola...          29\n",
       "2  gamestop stock split plan announced need know ...          14\n",
       "3  iron mike tyson amp bank america boa back sola...          29\n",
       "4  jpmorgan chase wellsfargo citi bankofamericann...          26"
      ]
     },
     "execution_count": 51,
     "metadata": {},
     "output_type": "execute_result"
    }
   ],
   "source": [
    "df['word_count'] = df['content'].apply(lambda x: len(str(x).split(\" \")))\n",
    "df[['content','word_count']].head()"
   ]
  },
  {
   "cell_type": "code",
   "execution_count": 52,
   "id": "d96582ee",
   "metadata": {},
   "outputs": [
    {
     "data": {
      "text/html": [
       "<div>\n",
       "<style scoped>\n",
       "    .dataframe tbody tr th:only-of-type {\n",
       "        vertical-align: middle;\n",
       "    }\n",
       "\n",
       "    .dataframe tbody tr th {\n",
       "        vertical-align: top;\n",
       "    }\n",
       "\n",
       "    .dataframe thead th {\n",
       "        text-align: right;\n",
       "    }\n",
       "</style>\n",
       "<table border=\"1\" class=\"dataframe\">\n",
       "  <thead>\n",
       "    <tr style=\"text-align: right;\">\n",
       "      <th></th>\n",
       "      <th>null</th>\n",
       "      <th>percent</th>\n",
       "    </tr>\n",
       "  </thead>\n",
       "  <tbody>\n",
       "    <tr>\n",
       "      <th>content</th>\n",
       "      <td>0</td>\n",
       "      <td>0.0</td>\n",
       "    </tr>\n",
       "    <tr>\n",
       "      <th>stopwords</th>\n",
       "      <td>0</td>\n",
       "      <td>0.0</td>\n",
       "    </tr>\n",
       "    <tr>\n",
       "      <th>punctuation</th>\n",
       "      <td>0</td>\n",
       "      <td>0.0</td>\n",
       "    </tr>\n",
       "    <tr>\n",
       "      <th>hastags</th>\n",
       "      <td>0</td>\n",
       "      <td>0.0</td>\n",
       "    </tr>\n",
       "    <tr>\n",
       "      <th>numerics</th>\n",
       "      <td>0</td>\n",
       "      <td>0.0</td>\n",
       "    </tr>\n",
       "    <tr>\n",
       "      <th>upper</th>\n",
       "      <td>0</td>\n",
       "      <td>0.0</td>\n",
       "    </tr>\n",
       "    <tr>\n",
       "      <th>word_count</th>\n",
       "      <td>0</td>\n",
       "      <td>0.0</td>\n",
       "    </tr>\n",
       "  </tbody>\n",
       "</table>\n",
       "</div>"
      ],
      "text/plain": [
       "             null  percent\n",
       "content         0      0.0\n",
       "stopwords       0      0.0\n",
       "punctuation     0      0.0\n",
       "hastags         0      0.0\n",
       "numerics        0      0.0\n",
       "upper           0      0.0\n",
       "word_count      0      0.0"
      ]
     },
     "execution_count": 52,
     "metadata": {},
     "output_type": "execute_result"
    }
   ],
   "source": [
    "null_values=df.isna().sum()\n",
    "null_values=pd.DataFrame(null_values,columns=['null'])\n",
    "sum_tot=len(df)\n",
    "null_values['percent']=null_values['null']/sum_tot*100\n",
    "round(null_values,3).sort_values('percent',ascending=False)"
   ]
  },
  {
   "cell_type": "code",
   "execution_count": 53,
   "id": "c16986a8",
   "metadata": {},
   "outputs": [
    {
     "data": {
      "text/html": [
       "<div>\n",
       "<style scoped>\n",
       "    .dataframe tbody tr th:only-of-type {\n",
       "        vertical-align: middle;\n",
       "    }\n",
       "\n",
       "    .dataframe tbody tr th {\n",
       "        vertical-align: top;\n",
       "    }\n",
       "\n",
       "    .dataframe thead th {\n",
       "        text-align: right;\n",
       "    }\n",
       "</style>\n",
       "<table border=\"1\" class=\"dataframe\">\n",
       "  <thead>\n",
       "    <tr style=\"text-align: right;\">\n",
       "      <th></th>\n",
       "      <th>content</th>\n",
       "      <th>char_count</th>\n",
       "    </tr>\n",
       "  </thead>\n",
       "  <tbody>\n",
       "    <tr>\n",
       "      <th>0</th>\n",
       "      <td>bank america  bankofamerica</td>\n",
       "      <td>27</td>\n",
       "    </tr>\n",
       "    <tr>\n",
       "      <th>1</th>\n",
       "      <td>iron mike tyson amp bank america boa back sola...</td>\n",
       "      <td>221</td>\n",
       "    </tr>\n",
       "    <tr>\n",
       "      <th>2</th>\n",
       "      <td>gamestop stock split plan announced need know ...</td>\n",
       "      <td>117</td>\n",
       "    </tr>\n",
       "    <tr>\n",
       "      <th>3</th>\n",
       "      <td>iron mike tyson amp bank america boa back sola...</td>\n",
       "      <td>221</td>\n",
       "    </tr>\n",
       "    <tr>\n",
       "      <th>4</th>\n",
       "      <td>jpmorgan chase wellsfargo citi bankofamericann...</td>\n",
       "      <td>199</td>\n",
       "    </tr>\n",
       "  </tbody>\n",
       "</table>\n",
       "</div>"
      ],
      "text/plain": [
       "                                             content  char_count\n",
       "0                        bank america  bankofamerica          27\n",
       "1  iron mike tyson amp bank america boa back sola...         221\n",
       "2  gamestop stock split plan announced need know ...         117\n",
       "3  iron mike tyson amp bank america boa back sola...         221\n",
       "4  jpmorgan chase wellsfargo citi bankofamericann...         199"
      ]
     },
     "execution_count": 53,
     "metadata": {},
     "output_type": "execute_result"
    }
   ],
   "source": [
    "df['char_count'] = df['content'].str.len() ## this also includes spaces\n",
    "df[['content','char_count']].head()"
   ]
  },
  {
   "cell_type": "code",
   "execution_count": 54,
   "id": "13767d06",
   "metadata": {},
   "outputs": [],
   "source": [
    "def avg_word(sentence):\n",
    "    words = sentence.split()\n",
    "    return (sum(len(word) for word in words)/(len(words)+0.000001))"
   ]
  },
  {
   "cell_type": "code",
   "execution_count": 55,
   "id": "c31c923f",
   "metadata": {},
   "outputs": [
    {
     "data": {
      "text/html": [
       "<div>\n",
       "<style scoped>\n",
       "    .dataframe tbody tr th:only-of-type {\n",
       "        vertical-align: middle;\n",
       "    }\n",
       "\n",
       "    .dataframe tbody tr th {\n",
       "        vertical-align: top;\n",
       "    }\n",
       "\n",
       "    .dataframe thead th {\n",
       "        text-align: right;\n",
       "    }\n",
       "</style>\n",
       "<table border=\"1\" class=\"dataframe\">\n",
       "  <thead>\n",
       "    <tr style=\"text-align: right;\">\n",
       "      <th></th>\n",
       "      <th>content</th>\n",
       "      <th>avg_word</th>\n",
       "    </tr>\n",
       "  </thead>\n",
       "  <tbody>\n",
       "    <tr>\n",
       "      <th>0</th>\n",
       "      <td>bank america  bankofamerica</td>\n",
       "      <td>8.0</td>\n",
       "    </tr>\n",
       "    <tr>\n",
       "      <th>1</th>\n",
       "      <td>iron mike tyson amp bank america boa back sola...</td>\n",
       "      <td>6.9</td>\n",
       "    </tr>\n",
       "    <tr>\n",
       "      <th>2</th>\n",
       "      <td>gamestop stock split plan announced need know ...</td>\n",
       "      <td>8.0</td>\n",
       "    </tr>\n",
       "    <tr>\n",
       "      <th>3</th>\n",
       "      <td>iron mike tyson amp bank america boa back sola...</td>\n",
       "      <td>6.9</td>\n",
       "    </tr>\n",
       "    <tr>\n",
       "      <th>4</th>\n",
       "      <td>jpmorgan chase wellsfargo citi bankofamericann...</td>\n",
       "      <td>7.0</td>\n",
       "    </tr>\n",
       "  </tbody>\n",
       "</table>\n",
       "</div>"
      ],
      "text/plain": [
       "                                             content  avg_word\n",
       "0                        bank america  bankofamerica       8.0\n",
       "1  iron mike tyson amp bank america boa back sola...       6.9\n",
       "2  gamestop stock split plan announced need know ...       8.0\n",
       "3  iron mike tyson amp bank america boa back sola...       6.9\n",
       "4  jpmorgan chase wellsfargo citi bankofamericann...       7.0"
      ]
     },
     "execution_count": 55,
     "metadata": {},
     "output_type": "execute_result"
    }
   ],
   "source": [
    "df['avg_word'] = df['content'].apply(lambda x: avg_word(x)).round(1)\n",
    "df[['content','avg_word']].head()"
   ]
  },
  {
   "cell_type": "code",
   "execution_count": 57,
   "id": "820ce529",
   "metadata": {},
   "outputs": [
    {
     "data": {
      "text/plain": [
       "bankofamerica       103\n",
       "bank                 51\n",
       "america              38\n",
       "bac                  25\n",
       "sol                  14\n",
       "miketyson            14\n",
       "medium               14\n",
       "solana               14\n",
       "de                   14\n",
       "boa                  12\n",
       "one                  12\n",
       "money                11\n",
       "la                   11\n",
       "stock                10\n",
       "back                 10\n",
       "company              10\n",
       "amp                   9\n",
       "inc                   8\n",
       "mike                  8\n",
       "ethereum              8\n",
       "like                  8\n",
       "tyson                 7\n",
       "via                   7\n",
       "blogging              7\n",
       "bofa                  7\n",
       "pensignal             7\n",
       "writingservices       7\n",
       "cryptocurrencies      7\n",
       "seo                   7\n",
       "boss                  7\n",
       "writerscommunity      7\n",
       "writerslift           7\n",
       "dalton                7\n",
       "stephen               7\n",
       "uptrend               7\n",
       "iron                  7\n",
       "cupcakes              6\n",
       "stockmarket           6\n",
       "march                 6\n",
       "turning               6\n",
       "get                   6\n",
       "largest               6\n",
       "day                   6\n",
       "price                 6\n",
       "banking               6\n",
       "banks                 5\n",
       "band                  5\n",
       "stocks                5\n",
       "bollinger             5\n",
       "corp                  5\n",
       "dtype: int64"
      ]
     },
     "execution_count": 57,
     "metadata": {},
     "output_type": "execute_result"
    }
   ],
   "source": [
    "freq = pd.Series(' '.join(df['content']).split()).value_counts()[:50]\n",
    "freq"
   ]
  },
  {
   "cell_type": "code",
   "execution_count": 58,
   "id": "287974c4",
   "metadata": {},
   "outputs": [],
   "source": [
    "add_words = [     \n",
    "\"de\",     \n",
    "\"la\",           \n",
    "]\n",
    "\n",
    "stop_words = set(stopwords.words(\"english\"))\n",
    "stop_added = stop_words.union(add_words)"
   ]
  },
  {
   "cell_type": "code",
   "execution_count": 59,
   "id": "20143c4c",
   "metadata": {},
   "outputs": [],
   "source": [
    "df['content'] = df['content'].apply(lambda x: \" \".join(x for x in x.split() if x not in stop_added))"
   ]
  },
  {
   "cell_type": "code",
   "execution_count": 60,
   "id": "3e9f4a04",
   "metadata": {},
   "outputs": [
    {
     "data": {
      "text/plain": [
       "49     bank america awards million grant detroit empl...\n",
       "90     bac bankofamerica täglich wir befinden uns der...\n",
       "98                                                  like\n",
       "12                    bank stocks took large hit week ry\n",
       "65     bac enters bearish trend bankofamerica stockma...\n",
       "31                          one company turning cupcakes\n",
       "47     γιατί η bankofamerica έχει ελκυστικό μέρισμα κ...\n",
       "48     iron mike tyson amp bank america boa back sola...\n",
       "67     bac uptrend price may ascend result broken low...\n",
       "143    days til bankofamerica chimarathon miles justi...\n",
       "Name: content, dtype: object"
      ]
     },
     "execution_count": 60,
     "metadata": {},
     "output_type": "execute_result"
    }
   ],
   "source": [
    "df['content'].sample(10)"
   ]
  },
  {
   "cell_type": "code",
   "execution_count": 61,
   "id": "ead29930",
   "metadata": {},
   "outputs": [],
   "source": [
    "df1= df"
   ]
  },
  {
   "cell_type": "code",
   "execution_count": 63,
   "id": "4f1ef1f9",
   "metadata": {},
   "outputs": [],
   "source": [
    "mask = df1.content.str.endswith('de') \n",
    "df1.loc[mask, 'content'] = df1.loc[mask, 'content'].str[:-2]"
   ]
  },
  {
   "cell_type": "code",
   "execution_count": 66,
   "id": "0ee808b1",
   "metadata": {},
   "outputs": [
    {
     "data": {
      "text/plain": [
       "['bank america bankofamerica',\n",
       " 'iron mike tyson amp bank america boa back solana sol stephen dalton boss medium via pensignal sol solana bankofamerica miketyson miketyson cryptocurrencies writingservices writerscommunity medium writerslift seo blogging',\n",
       " 'gamestop stock split plan announced need know boardofdirectors whatyouneed bankofamerica splitin gamestop stocksplit',\n",
       " 'iron mike tyson amp bank america boa back solana sol stephen dalton boss medium via pensignal sol solana bankofamerica miketyson miketyson cryptocurrencies writingservices writerscommunity medium writerslift seo blogging',\n",
       " 'jpmorgan chase wellsfargo citi bankofamericannprovided financing coal oil gas last year ftnnall members called net zero banking alliancennthe net zero much fossil fuel leave groundnnclimatecriminals',\n",
       " 'bank america bankofamerica',\n",
       " 'nbankofamerica',\n",
       " 'bankofamerica promises showing clips next marvel moviennwhen uber lyft going start shuttling peoples money themnnmilliondollaridea httpstcoozvsnmpodk',\n",
       " 'first weekend month means museums us bank america back boa cardholders get woolaroc free today tomorrow show card gate come innmuseumsonus bankofamerica',\n",
       " 'iron mike tyson amp bank america boa back solana sol stephen dalton boss medium via pensignal httpstcoqrdwiktufq sol solana bankofamerica miketyson miketyson cryptocurrencies writingservices writerscommunity medium writerslift seo blogging',\n",
       " 'banknifty sbin nifty npredominantly',\n",
       " 'bank stocks took large hit week ry',\n",
       " 'bank america nysebac upgraded bankofamerica nysebac',\n",
       " 'hours',\n",
       " 'week charlotte north carolina greenfaith circle friends met bankofamericas vp communications kelly sapp deliver petition signatures demanding bankofamerica declare publicly fund formosa plastics new plant',\n",
       " 'april fools joke bankofamerica museumsonus weekend',\n",
       " 'anyone else issue bankofamerica app ios would suggest affected bankofamerica app',\n",
       " 'kellycnbc one teller bankofamerica st ave yesterday customer line grew bank manager opened second window became bank teller cant find workers',\n",
       " 'bac stock markets top loser yesterday falling bankofamerica stockmarket stock',\n",
       " 'cmichelcarter heres bit hint bankofamerica people like working home productive',\n",
       " 'lucy craft laney museum regretfully postpone grand reopening celebration scheduled april good lucycraftlaneymuseum bankofamerica loveaugusta blackhistory augustablackhistory httpstcoidvlbqbmcz',\n",
       " 'nyse volume leadersndidi global inc didi nalibaba group holding baba partners psxp npretium res inc pvg nford motor company f sellnbankofamerica corp bac sellntencent music tme ncarnival corp ccl',\n",
       " 'bankofamerica worst institution ever run around get finally get someone phone unnerving done',\n",
       " 'nfttoo cool traditional bankethereum crypto blockchain bankofamerica',\n",
       " 'iron mike tyson amp bank america boa back solana sol stephen dalton boss medium via pensignal sol solana bankofamerica miketyson miketyson cryptocurrencies writingservices writerscommunity medium writerslift seo blogging',\n",
       " 'barclays raises us minimum hourly wage bankofamerica britishbankbarclaysplc minimumwage workers employees',\n",
       " 'bankofamerica loves disney stock ton said disney hitting park stocknin fact',\n",
       " 'companies sure dont appreciate ur vtech',\n",
       " 'pbs history documentary kenburns advertisement bankofamericani stopped banking boa years ago favor smaller local bank ndwatchnewsnam jeffsantosshow nharveyjkaye',\n",
       " 'bac enters bearish trend bankofamerica stockmarket stock',\n",
       " 'mindblowing figures new report banking climate chaos fossilfuel financing worlds largest banks including jpmorganchase citi wellsfargo bankofamerica ing rabobank reached usd trillion since paris httpstcorctbztwrsx',\n",
       " 'γιατί η bankofamerica έχει ελκυστικό μέρισμα και που στηρίζεται',\n",
       " 'iron mike tyson amp bank america boa back solana sol stephen dalton boss medium via pensignal httpstcoscjrkbdgnb sol solana bankofamerica miketyson miketyson cryptocurrencies writingservices writerscommunity medium writerslift seo blogging',\n",
       " 'bank america awards million grant detroit employment solutions corporation bankofamerica hr hrtech hrnews humanresources hrtechnews bankofamerica',\n",
       " 'bank america amp payday loans learn payday payday cashadvance',\n",
       " 'fractionalreservebanking banks coldstorage trustnoone bankofamerica ledger trezor goldstandard',\n",
       " 'apparently bankofamerica wont help domestic abuse victimsndomesticviolence bankofamerica',\n",
       " 'bankofamerica formosa plastics important us bank',\n",
       " 'billycorben chasesupport ought deal bankofamerica dumped tdbank',\n",
       " 'bac bankofamerica bofanews forte baisse à court terme sur bank america vient remettre en cause tendance fond actuellement faiblement haussière sur cette unité',\n",
       " 'bac bankofamerica forte baisse à court terme sur bank america vient remettre en cause tendance fond actuellement faiblement haussière sur cette unité',\n",
       " 'bankofamerica lol ive ghosted bofahelp happened anyone else bankofamerica money due typo visa payment days ago wont give back',\n",
       " 'esa es conclusión los analistas bankofamerica bofa',\n",
       " 'iron mike tyson amp bank america boa back solana sol stephen dalton boss medium via pensignal sol solana bankofamerica miketyson miketyson cryptocurrencies writingservices writerscommunity medium writerslift seo blogging',\n",
       " 'bac enters bearish trend bankofamerica stockmarket stock',\n",
       " 'going bank america executive calls stronger net zero push response geopolitical instability httpstcoglvfkahcoh käyttäen businessgreen nbankofamerica netzeropush nvastuullisuus',\n",
       " 'iron mike tyson amp bank america boa back solana sol stephen dalton boss medium via pensignal sol solana bankofamerica miketyson miketyson cryptocurrencies writingservices writerscommunity medium writerslift seo blogging',\n",
       " 'bankofamerica start monthly maintenance fees lolnand importantly l',\n",
       " 'dont know anyone would bank bank america spent hour trying reach live person discuss account open customer friendly organized need fraud department number',\n",
       " 'altcoingordon buy bankofamerica',\n",
       " 'bank america emerging growth company practice bankofamerica bofa bofaemerginggrowth emerginggrowth bofastartupservices',\n",
       " 'allí viene el lobo nlos funcionarios fed',\n",
       " 'bank america emerging growth company practice bankofamerica bofa bofaemerginggrowth emerginggrowth bofastartupservices',\n",
       " 'investors consider investing financial stocks lets discuss two largest us banks bankofamerica bac jpmorgan jpm stockstotrade nn details article retail derivatives accounts lose money',\n",
       " 'bac enters bearish trend bankofamerica stockmarket stock',\n",
       " 'bankofamerica fact short million ounces silver million oz gold',\n",
       " 'bankofamerica worst bank history banks even trust checks dont even know one branches closed phhh bankofamerica bank loans realestate realtor avoid money moneycontrol fyp fyp youtube',\n",
       " 'nyse stocks volume leadersnsouthwesternenergy swnbuynford motor company fbuynenergytransfer etbuyndidi global inc didisellnatt inc tbuynbankofamerica corp bacbuyncarnival corp cclbuynalibaba group holding',\n",
       " 'spring forward even though day still feels like winter thats mindset chicagoan inaugural bankofamerica june ambitious goals mind whats next httpstcoomibclgulm',\n",
       " 'feel like mention bankofamerica follow page',\n",
       " 'sharing special partnership bank america bankofamerica',\n",
       " 'mercators brian riley unpacks new secured card offered bankofamerica small businesses',\n",
       " 'bank america corta preçoalvo da jbs por expectativa queda ebitda em bankofamerica bofa jbs',\n",
       " 'bofa eleva preçoalvo com projeção alta lucro da bb seguridade bankofamerica bbseguridade bofa',\n",
       " 'bac bankofamerica täglich wir befinden uns derzeit einer kurzfristigen phase der unentschlossenheit einem solchen fall könnten wir trades richtung des zugrun',\n",
       " 'bac bankofamerica täglich wir befinden uns derzeit einer kurzfristigen phase der unentschlossenheit einem solchen fall könnten wir trades richtung des zugrun',\n",
       " 'streetwrap upgrades',\n",
       " 'nyse volume leadersndidi global inc didi ntransocean inc rig nbankofamerica corp bac buynalibaba group holding baba nmonmouth real estate mnr ncreditsuisse group cs sellncitigroup inc c sellnanaplan inc plan',\n",
       " 'full stack developer bank americanjob description bank america one worlds largest financial institutions serving individual consumernjavascript workingfromhome bankofamericanhttpstcokmscgyrcbb',\n",
       " 'market flashing buy signal suggesting stocks rally one last time epic selling opportunity bank america says bankofamerica',\n",
       " 'zuck thought could hide nnhis connection truth revealednnfacebook meta cph bankofamerica',\n",
       " 'im still waiting get unemployment money back bank america im currently living street bankofamerica bankofamerica californiaedd',\n",
       " 'capitalisation du bitcoin dépasse capitalisation boursière jpmorgan et bankofamerica',\n",
       " 'bac enters bearish trend bankofamerica stockmarket stock',\n",
       " 'bankofamerica cashfriday',\n",
       " 'bankofamerica jfc stole overdraft crooks treated like horse thievesbank theft fraud bankofamerica',\n",
       " 'stocks making biggest moves midday bed bath amp beyond',\n",
       " 'bankofamerica sucking since ni cannot life understand people havent run thieves like plague',\n",
       " 'bank america worker walks around line long fuck one teller annoying fuck bankofamerica',\n",
       " 'neilyoung demand pull money bankofamerica working',\n",
       " 'octopuscaveman neilyoung demand pull money bankofamerica working',\n",
       " 'economía bancos en eeuu esperan varios aumentos fed puntos básicos citibank bankofamerica tasasdeinterés',\n",
       " 'bofahelp issue yet resolved atm takes day still resolved account bankofamerica',\n",
       " 'bank america bankofamerica',\n",
       " 'bankofamerica shitting little guy whats boa story',\n",
       " 'tl kar etmek varken tl alıp gidenler ordamısınız sizin surat ifadeninizi görmek isterdimnensri ensari ensarideri bankofamerica',\n",
       " 'amnbac bankofamerica billion bank america bac stock sinks market gains know',\n",
       " 'los precios las materias primas marcan el mejor año desde bankofamérica materiasprimas ucrania economía minería proactivoperun',\n",
       " 'energy investing gt die größten geldgeber für fossile energien sind laut studie die usbanken jpmorgan',\n",
       " 'chasebank wellsfargo bankofamerica citibank customers tired money used invest destruction plantet join signingon letter bank ceo demand bank stops funding climate chaos httpstcohmwxepgxkv',\n",
       " 'perfect storm fueling energy upside says bofas savita subramanian america bank bankofamerica money oil securities television ukraine war',\n",
       " 'bac uptrend rsi indicator exits oversold zone view odds indicators bankofamerica stockmarket stock httpstcotsfbaolsit',\n",
       " 'kenburns bankofamerica pbs pbs bankofamerica',\n",
       " 'overall market capitalization ethereum eth skyrocketed price finally topped eclipsing worlds largest financial organizations including bank america boa mastercard nyse manethereum eth mastercard bankofamerica cmnnews',\n",
       " 'bankofamerica ndbsbanknsbi httpstcouxbvhqlksc',\n",
       " 'ethereum tiene una mayor capitalización mercado que el bankofamerica eth',\n",
       " 'bankofamerica spokesperson kate fernandez tweeted bought boredapeyachtclub eth said bank america closely following nft topic',\n",
       " 'mike wiley one noble journey box marked freedom spoke friends qcity metro show',\n",
       " 'bank america httpstcoibxmtnnwmz bankofamerica',\n",
       " 'bank america bankofamerica',\n",
       " 'darethpray goldsgym dislike conflict nconsider telling full story twitter power use hashtag goldsgym also goldsgym together tweet ive done w bankofamerica',\n",
       " 'days til bankofamerica chimarathon miles justice day row per day im putting good energy somehow ill get chicagomarathon speak existence runstreak nodaysoff marathon ohwerun',\n",
       " 'newsmax outta focused discrimination unvaccinated employees instead businesses like wellsfargo bankofamerica amazon google',\n",
       " 'ethereum overall market cap skyrocketed outpacing worlds largest financial institutions bankofamerica boa mastercard nneth eth',\n",
       " 'amazing get riskfree citi nnim going smoke inflation nnbut seriously though pretty good beats bank america literally nnsavingsaccount citi bankofamerica inflation checkingaccount bac',\n",
       " 'bac login generalnnis bankofamerica ddos attack nnrussia may take money accounts soon without asking bofa nnwait see outage portaldown bofadown ukrainerussiawar bankofamerica']"
      ]
     },
     "execution_count": 66,
     "metadata": {},
     "output_type": "execute_result"
    }
   ],
   "source": [
    "df1.loc[df1.punctuation >= 4].content.tolist()"
   ]
  },
  {
   "cell_type": "code",
   "execution_count": 68,
   "id": "d6525ce2",
   "metadata": {},
   "outputs": [
    {
     "data": {
      "text/plain": [
       "['bank america bankofamerica',\n",
       " 'iron mike tyson amp bank america boa back solana sol stephen dalton boss medium via pensignal sol solana bankofamerica miketyson miketyson cryptocurrencies writingservices writerscommunity medium writerslift seo blogging',\n",
       " 'gamestop stock split plan announced need know boardofdirectors whatyouneed bankofamerica splitin gamestop stocksplit',\n",
       " 'iron mike tyson amp bank america boa back solana sol stephen dalton boss medium via pensignal sol solana bankofamerica miketyson miketyson cryptocurrencies writingservices writerscommunity medium writerslift seo blogging',\n",
       " 'jpmorgan chase wellsfargo citi bankofamericannprovided financing coal oil gas last year ftnnall members called net zero banking alliancennthe net zero much fossil fuel leave groundnnclimatecriminals',\n",
       " 'bank america bankofamerica',\n",
       " 'bankofamerica promises showing clips next marvel moviennwhen uber lyft going start shuttling peoples money themnnmilliondollaridea httpstcoozvsnmpodk',\n",
       " 'first weekend month means museums us bank america back boa cardholders get woolaroc free today tomorrow show card gate come innmuseumsonus bankofamerica',\n",
       " 'iron mike tyson amp bank america boa back solana sol stephen dalton boss medium via pensignal httpstcoqrdwiktufq sol solana bankofamerica miketyson miketyson cryptocurrencies writingservices writerscommunity medium writerslift seo blogging',\n",
       " 'banknifty sbin nifty npredominantly',\n",
       " 'bank stocks took large hit week ry',\n",
       " 'bank america nysebac upgraded bankofamerica nysebac',\n",
       " 'week charlotte north carolina greenfaith circle friends met bankofamericas vp communications kelly sapp deliver petition signatures demanding bankofamerica declare publicly fund formosa plastics new plant',\n",
       " 'anyone else issue bankofamerica app ios would suggest affected bankofamerica app',\n",
       " 'kellycnbc one teller bankofamerica st ave yesterday customer line grew bank manager opened second window became bank teller cant find workers',\n",
       " 'bac stock markets top loser yesterday falling bankofamerica stockmarket stock',\n",
       " 'cmichelcarter heres bit hint bankofamerica people like working home productive',\n",
       " 'lucy craft laney museum regretfully postpone grand reopening celebration scheduled april good lucycraftlaneymuseum bankofamerica loveaugusta blackhistory augustablackhistory httpstcoidvlbqbmcz',\n",
       " 'nyse volume leadersndidi global inc didi nalibaba group holding baba partners psxp npretium res inc pvg nford motor company f sellnbankofamerica corp bac sellntencent music tme ncarnival corp ccl',\n",
       " 'bankofamerica worst institution ever run around get finally get someone phone unnerving done',\n",
       " 'nfttoo cool traditional bankethereum crypto blockchain bankofamerica',\n",
       " 'iron mike tyson amp bank america boa back solana sol stephen dalton boss medium via pensignal sol solana bankofamerica miketyson miketyson cryptocurrencies writingservices writerscommunity medium writerslift seo blogging',\n",
       " 'barclays raises us minimum hourly wage bankofamerica britishbankbarclaysplc minimumwage workers employees',\n",
       " 'bankofamerica loves disney stock ton said disney hitting park stocknin fact',\n",
       " 'pbs history documentary kenburns advertisement bankofamericani stopped banking boa years ago favor smaller local bank ndwatchnewsnam jeffsantosshow nharveyjkaye',\n",
       " 'bac enters bearish trend bankofamerica stockmarket stock',\n",
       " 'mindblowing figures new report banking climate chaos fossilfuel financing worlds largest banks including jpmorganchase citi wellsfargo bankofamerica ing rabobank reached usd trillion since paris httpstcorctbztwrsx',\n",
       " 'γιατί η bankofamerica έχει ελκυστικό μέρισμα και που στηρίζεται',\n",
       " 'iron mike tyson amp bank america boa back solana sol stephen dalton boss medium via pensignal httpstcoscjrkbdgnb sol solana bankofamerica miketyson miketyson cryptocurrencies writingservices writerscommunity medium writerslift seo blogging',\n",
       " 'bank america awards million grant detroit employment solutions corporation bankofamerica hr hrtech hrnews humanresources hrtechnews bankofamerica',\n",
       " 'bank america amp payday loans learn payday payday cashadvance',\n",
       " 'fractionalreservebanking banks coldstorage trustnoone bankofamerica ledger trezor goldstandard',\n",
       " 'apparently bankofamerica wont help domestic abuse victimsndomesticviolence bankofamerica',\n",
       " 'bankofamerica formosa plastics important us bank',\n",
       " 'billycorben chasesupport ought deal bankofamerica dumped tdbank',\n",
       " 'bac bankofamerica bofanews forte baisse à court terme sur bank america vient remettre en cause tendance fond actuellement faiblement haussière sur cette unité',\n",
       " 'bac bankofamerica forte baisse à court terme sur bank america vient remettre en cause tendance fond actuellement faiblement haussière sur cette unité',\n",
       " 'bankofamerica lol ive ghosted bofahelp happened anyone else bankofamerica money due typo visa payment days ago wont give back',\n",
       " 'iron mike tyson amp bank america boa back solana sol stephen dalton boss medium via pensignal sol solana bankofamerica miketyson miketyson cryptocurrencies writingservices writerscommunity medium writerslift seo blogging',\n",
       " 'bac enters bearish trend bankofamerica stockmarket stock',\n",
       " 'going bank america executive calls stronger net zero push response geopolitical instability httpstcoglvfkahcoh käyttäen businessgreen nbankofamerica netzeropush nvastuullisuus',\n",
       " 'iron mike tyson amp bank america boa back solana sol stephen dalton boss medium via pensignal sol solana bankofamerica miketyson miketyson cryptocurrencies writingservices writerscommunity medium writerslift seo blogging',\n",
       " 'bankofamerica start monthly maintenance fees lolnand importantly l',\n",
       " 'dont know anyone would bank bank america spent hour trying reach live person discuss account open customer friendly organized need fraud department number',\n",
       " 'bank america emerging growth company practice bankofamerica bofa bofaemerginggrowth emerginggrowth bofastartupservices',\n",
       " 'bank america emerging growth company practice bankofamerica bofa bofaemerginggrowth emerginggrowth bofastartupservices',\n",
       " 'investors consider investing financial stocks lets discuss two largest us banks bankofamerica bac jpmorgan jpm stockstotrade nn details article retail derivatives accounts lose money',\n",
       " 'bac enters bearish trend bankofamerica stockmarket stock',\n",
       " 'bankofamerica fact short million ounces silver million oz gold',\n",
       " 'bankofamerica worst bank history banks even trust checks dont even know one branches closed phhh bankofamerica bank loans realestate realtor avoid money moneycontrol fyp fyp youtube',\n",
       " 'nyse stocks volume leadersnsouthwesternenergy swnbuynford motor company fbuynenergytransfer etbuyndidi global inc didisellnatt inc tbuynbankofamerica corp bacbuyncarnival corp cclbuynalibaba group holding',\n",
       " 'spring forward even though day still feels like winter thats mindset chicagoan inaugural bankofamerica june ambitious goals mind whats next httpstcoomibclgulm',\n",
       " 'feel like mention bankofamerica follow page',\n",
       " 'sharing special partnership bank america bankofamerica',\n",
       " 'mercators brian riley unpacks new secured card offered bankofamerica small businesses',\n",
       " 'bank america corta preçoalvo da jbs por expectativa queda ebitda em bankofamerica bofa jbs',\n",
       " 'bofa eleva preçoalvo com projeção alta lucro da bb seguridade bankofamerica bbseguridade bofa',\n",
       " 'bac bankofamerica täglich wir befinden uns derzeit einer kurzfristigen phase der unentschlossenheit einem solchen fall könnten wir trades richtung des zugrun',\n",
       " 'bac bankofamerica täglich wir befinden uns derzeit einer kurzfristigen phase der unentschlossenheit einem solchen fall könnten wir trades richtung des zugrun',\n",
       " 'nyse volume leadersndidi global inc didi ntransocean inc rig nbankofamerica corp bac buynalibaba group holding baba nmonmouth real estate mnr ncreditsuisse group cs sellncitigroup inc c sellnanaplan inc plan',\n",
       " 'full stack developer bank americanjob description bank america one worlds largest financial institutions serving individual consumernjavascript workingfromhome bankofamericanhttpstcokmscgyrcbb',\n",
       " 'market flashing buy signal suggesting stocks rally one last time epic selling opportunity bank america says bankofamerica',\n",
       " 'zuck thought could hide nnhis connection truth revealednnfacebook meta cph bankofamerica',\n",
       " 'im still waiting get unemployment money back bank america im currently living street bankofamerica bankofamerica californiaedd',\n",
       " 'capitalisation du bitcoin dépasse capitalisation boursière jpmorgan et bankofamerica',\n",
       " 'bac enters bearish trend bankofamerica stockmarket stock',\n",
       " 'bankofamerica jfc stole overdraft crooks treated like horse thievesbank theft fraud bankofamerica',\n",
       " 'bankofamerica sucking since ni cannot life understand people havent run thieves like plague',\n",
       " 'bank america worker walks around line long fuck one teller annoying fuck bankofamerica',\n",
       " 'octopuscaveman neilyoung demand pull money bankofamerica working',\n",
       " 'economía bancos en eeuu esperan varios aumentos fed puntos básicos citibank bankofamerica tasasdeinterés',\n",
       " 'bofahelp issue yet resolved atm takes day still resolved account bankofamerica',\n",
       " 'bank america bankofamerica',\n",
       " 'bankofamerica shitting little guy whats boa story',\n",
       " 'tl kar etmek varken tl alıp gidenler ordamısınız sizin surat ifadeninizi görmek isterdimnensri ensari ensarideri bankofamerica',\n",
       " 'amnbac bankofamerica billion bank america bac stock sinks market gains know',\n",
       " 'los precios las materias primas marcan el mejor año desde bankofamérica materiasprimas ucrania economía minería proactivoperun',\n",
       " 'energy investing gt die größten geldgeber für fossile energien sind laut studie die usbanken jpmorgan',\n",
       " 'chasebank wellsfargo bankofamerica citibank customers tired money used invest destruction plantet join signingon letter bank ceo demand bank stops funding climate chaos httpstcohmwxepgxkv',\n",
       " 'perfect storm fueling energy upside says bofas savita subramanian america bank bankofamerica money oil securities television ukraine war',\n",
       " 'bac uptrend rsi indicator exits oversold zone view odds indicators bankofamerica stockmarket stock httpstcotsfbaolsit',\n",
       " 'kenburns bankofamerica pbs pbs bankofamerica',\n",
       " 'overall market capitalization ethereum eth skyrocketed price finally topped eclipsing worlds largest financial organizations including bank america boa mastercard nyse manethereum eth mastercard bankofamerica cmnnews',\n",
       " 'bankofamerica ndbsbanknsbi httpstcouxbvhqlksc',\n",
       " 'ethereum tiene una mayor capitalización mercado que el bankofamerica eth',\n",
       " 'bankofamerica spokesperson kate fernandez tweeted bought boredapeyachtclub eth said bank america closely following nft topic',\n",
       " 'bank america httpstcoibxmtnnwmz bankofamerica',\n",
       " 'bank america bankofamerica',\n",
       " 'darethpray goldsgym dislike conflict nconsider telling full story twitter power use hashtag goldsgym also goldsgym together tweet ive done w bankofamerica',\n",
       " 'days til bankofamerica chimarathon miles justice day row per day im putting good energy somehow ill get chicagomarathon speak existence runstreak nodaysoff marathon ohwerun',\n",
       " 'newsmax outta focused discrimination unvaccinated employees instead businesses like wellsfargo bankofamerica amazon google',\n",
       " 'ethereum overall market cap skyrocketed outpacing worlds largest financial institutions bankofamerica boa mastercard nneth eth',\n",
       " 'amazing get riskfree citi nnim going smoke inflation nnbut seriously though pretty good beats bank america literally nnsavingsaccount citi bankofamerica inflation checkingaccount bac',\n",
       " 'bac login generalnnis bankofamerica ddos attack nnrussia may take money accounts soon without asking bofa nnwait see outage portaldown bofadown ukrainerussiawar bankofamerica']"
      ]
     },
     "execution_count": 68,
     "metadata": {},
     "output_type": "execute_result"
    }
   ],
   "source": [
    "df.loc[df.punctuation > 4].content.tolist()"
   ]
  },
  {
   "cell_type": "code",
   "execution_count": 69,
   "id": "d890c760",
   "metadata": {},
   "outputs": [
    {
     "data": {
      "text/plain": [
       "bankofamerica       103\n",
       "bank                 51\n",
       "america              38\n",
       "bac                  25\n",
       "miketyson            14\n",
       "solana               14\n",
       "sol                  14\n",
       "medium               14\n",
       "boa                  12\n",
       "one                  12\n",
       "money                11\n",
       "stock                10\n",
       "company              10\n",
       "back                 10\n",
       "amp                   9\n",
       "like                  8\n",
       "ethereum              8\n",
       "inc                   8\n",
       "mike                  8\n",
       "boss                  7\n",
       "cryptocurrencies      7\n",
       "via                   7\n",
       "bofa                  7\n",
       "tyson                 7\n",
       "writingservices       7\n",
       "pensignal             7\n",
       "blogging              7\n",
       "seo                   7\n",
       "iron                  7\n",
       "stephen               7\n",
       "writerscommunity      7\n",
       "writerslift           7\n",
       "dalton                7\n",
       "uptrend               7\n",
       "cupcakes              6\n",
       "get                   6\n",
       "march                 6\n",
       "day                   6\n",
       "price                 6\n",
       "banking               6\n",
       "stockmarket           6\n",
       "largest               6\n",
       "turning               6\n",
       "band                  5\n",
       "bollinger             5\n",
       "eth                   5\n",
       "lower                 5\n",
       "corp                  5\n",
       "enters                5\n",
       "banks                 5\n",
       "dtype: int64"
      ]
     },
     "execution_count": 69,
     "metadata": {},
     "output_type": "execute_result"
    }
   ],
   "source": [
    "freq = pd.Series(' '.join(df['content']).split()).value_counts()[:50]\n",
    "freq"
   ]
  },
  {
   "cell_type": "code",
   "execution_count": 101,
   "id": "c2557371",
   "metadata": {},
   "outputs": [],
   "source": [
    "new_data = pd.DataFrame(freq)"
   ]
  },
  {
   "cell_type": "code",
   "execution_count": 103,
   "id": "db057f42",
   "metadata": {},
   "outputs": [],
   "source": [
    "new_data['keywords'] = freq.index"
   ]
  },
  {
   "cell_type": "code",
   "execution_count": 104,
   "id": "f081067a",
   "metadata": {},
   "outputs": [
    {
     "data": {
      "text/html": [
       "<div>\n",
       "<style scoped>\n",
       "    .dataframe tbody tr th:only-of-type {\n",
       "        vertical-align: middle;\n",
       "    }\n",
       "\n",
       "    .dataframe tbody tr th {\n",
       "        vertical-align: top;\n",
       "    }\n",
       "\n",
       "    .dataframe thead th {\n",
       "        text-align: right;\n",
       "    }\n",
       "</style>\n",
       "<table border=\"1\" class=\"dataframe\">\n",
       "  <thead>\n",
       "    <tr style=\"text-align: right;\">\n",
       "      <th></th>\n",
       "      <th>0</th>\n",
       "      <th>keywords</th>\n",
       "    </tr>\n",
       "  </thead>\n",
       "  <tbody>\n",
       "    <tr>\n",
       "      <th>bankofamerica</th>\n",
       "      <td>103</td>\n",
       "      <td>bankofamerica</td>\n",
       "    </tr>\n",
       "    <tr>\n",
       "      <th>bank</th>\n",
       "      <td>51</td>\n",
       "      <td>bank</td>\n",
       "    </tr>\n",
       "    <tr>\n",
       "      <th>america</th>\n",
       "      <td>38</td>\n",
       "      <td>america</td>\n",
       "    </tr>\n",
       "    <tr>\n",
       "      <th>bac</th>\n",
       "      <td>25</td>\n",
       "      <td>bac</td>\n",
       "    </tr>\n",
       "    <tr>\n",
       "      <th>miketyson</th>\n",
       "      <td>14</td>\n",
       "      <td>miketyson</td>\n",
       "    </tr>\n",
       "    <tr>\n",
       "      <th>solana</th>\n",
       "      <td>14</td>\n",
       "      <td>solana</td>\n",
       "    </tr>\n",
       "    <tr>\n",
       "      <th>sol</th>\n",
       "      <td>14</td>\n",
       "      <td>sol</td>\n",
       "    </tr>\n",
       "    <tr>\n",
       "      <th>medium</th>\n",
       "      <td>14</td>\n",
       "      <td>medium</td>\n",
       "    </tr>\n",
       "    <tr>\n",
       "      <th>boa</th>\n",
       "      <td>12</td>\n",
       "      <td>boa</td>\n",
       "    </tr>\n",
       "    <tr>\n",
       "      <th>one</th>\n",
       "      <td>12</td>\n",
       "      <td>one</td>\n",
       "    </tr>\n",
       "    <tr>\n",
       "      <th>money</th>\n",
       "      <td>11</td>\n",
       "      <td>money</td>\n",
       "    </tr>\n",
       "    <tr>\n",
       "      <th>stock</th>\n",
       "      <td>10</td>\n",
       "      <td>stock</td>\n",
       "    </tr>\n",
       "    <tr>\n",
       "      <th>company</th>\n",
       "      <td>10</td>\n",
       "      <td>company</td>\n",
       "    </tr>\n",
       "    <tr>\n",
       "      <th>back</th>\n",
       "      <td>10</td>\n",
       "      <td>back</td>\n",
       "    </tr>\n",
       "    <tr>\n",
       "      <th>amp</th>\n",
       "      <td>9</td>\n",
       "      <td>amp</td>\n",
       "    </tr>\n",
       "    <tr>\n",
       "      <th>like</th>\n",
       "      <td>8</td>\n",
       "      <td>like</td>\n",
       "    </tr>\n",
       "    <tr>\n",
       "      <th>ethereum</th>\n",
       "      <td>8</td>\n",
       "      <td>ethereum</td>\n",
       "    </tr>\n",
       "    <tr>\n",
       "      <th>inc</th>\n",
       "      <td>8</td>\n",
       "      <td>inc</td>\n",
       "    </tr>\n",
       "    <tr>\n",
       "      <th>mike</th>\n",
       "      <td>8</td>\n",
       "      <td>mike</td>\n",
       "    </tr>\n",
       "    <tr>\n",
       "      <th>boss</th>\n",
       "      <td>7</td>\n",
       "      <td>boss</td>\n",
       "    </tr>\n",
       "    <tr>\n",
       "      <th>cryptocurrencies</th>\n",
       "      <td>7</td>\n",
       "      <td>cryptocurrencies</td>\n",
       "    </tr>\n",
       "    <tr>\n",
       "      <th>via</th>\n",
       "      <td>7</td>\n",
       "      <td>via</td>\n",
       "    </tr>\n",
       "    <tr>\n",
       "      <th>bofa</th>\n",
       "      <td>7</td>\n",
       "      <td>bofa</td>\n",
       "    </tr>\n",
       "    <tr>\n",
       "      <th>tyson</th>\n",
       "      <td>7</td>\n",
       "      <td>tyson</td>\n",
       "    </tr>\n",
       "    <tr>\n",
       "      <th>writingservices</th>\n",
       "      <td>7</td>\n",
       "      <td>writingservices</td>\n",
       "    </tr>\n",
       "    <tr>\n",
       "      <th>pensignal</th>\n",
       "      <td>7</td>\n",
       "      <td>pensignal</td>\n",
       "    </tr>\n",
       "    <tr>\n",
       "      <th>blogging</th>\n",
       "      <td>7</td>\n",
       "      <td>blogging</td>\n",
       "    </tr>\n",
       "    <tr>\n",
       "      <th>seo</th>\n",
       "      <td>7</td>\n",
       "      <td>seo</td>\n",
       "    </tr>\n",
       "    <tr>\n",
       "      <th>iron</th>\n",
       "      <td>7</td>\n",
       "      <td>iron</td>\n",
       "    </tr>\n",
       "    <tr>\n",
       "      <th>stephen</th>\n",
       "      <td>7</td>\n",
       "      <td>stephen</td>\n",
       "    </tr>\n",
       "    <tr>\n",
       "      <th>writerscommunity</th>\n",
       "      <td>7</td>\n",
       "      <td>writerscommunity</td>\n",
       "    </tr>\n",
       "    <tr>\n",
       "      <th>writerslift</th>\n",
       "      <td>7</td>\n",
       "      <td>writerslift</td>\n",
       "    </tr>\n",
       "    <tr>\n",
       "      <th>dalton</th>\n",
       "      <td>7</td>\n",
       "      <td>dalton</td>\n",
       "    </tr>\n",
       "    <tr>\n",
       "      <th>uptrend</th>\n",
       "      <td>7</td>\n",
       "      <td>uptrend</td>\n",
       "    </tr>\n",
       "    <tr>\n",
       "      <th>cupcakes</th>\n",
       "      <td>6</td>\n",
       "      <td>cupcakes</td>\n",
       "    </tr>\n",
       "    <tr>\n",
       "      <th>get</th>\n",
       "      <td>6</td>\n",
       "      <td>get</td>\n",
       "    </tr>\n",
       "    <tr>\n",
       "      <th>march</th>\n",
       "      <td>6</td>\n",
       "      <td>march</td>\n",
       "    </tr>\n",
       "    <tr>\n",
       "      <th>day</th>\n",
       "      <td>6</td>\n",
       "      <td>day</td>\n",
       "    </tr>\n",
       "    <tr>\n",
       "      <th>price</th>\n",
       "      <td>6</td>\n",
       "      <td>price</td>\n",
       "    </tr>\n",
       "    <tr>\n",
       "      <th>banking</th>\n",
       "      <td>6</td>\n",
       "      <td>banking</td>\n",
       "    </tr>\n",
       "    <tr>\n",
       "      <th>stockmarket</th>\n",
       "      <td>6</td>\n",
       "      <td>stockmarket</td>\n",
       "    </tr>\n",
       "    <tr>\n",
       "      <th>largest</th>\n",
       "      <td>6</td>\n",
       "      <td>largest</td>\n",
       "    </tr>\n",
       "    <tr>\n",
       "      <th>turning</th>\n",
       "      <td>6</td>\n",
       "      <td>turning</td>\n",
       "    </tr>\n",
       "    <tr>\n",
       "      <th>band</th>\n",
       "      <td>5</td>\n",
       "      <td>band</td>\n",
       "    </tr>\n",
       "    <tr>\n",
       "      <th>bollinger</th>\n",
       "      <td>5</td>\n",
       "      <td>bollinger</td>\n",
       "    </tr>\n",
       "    <tr>\n",
       "      <th>eth</th>\n",
       "      <td>5</td>\n",
       "      <td>eth</td>\n",
       "    </tr>\n",
       "    <tr>\n",
       "      <th>lower</th>\n",
       "      <td>5</td>\n",
       "      <td>lower</td>\n",
       "    </tr>\n",
       "    <tr>\n",
       "      <th>corp</th>\n",
       "      <td>5</td>\n",
       "      <td>corp</td>\n",
       "    </tr>\n",
       "    <tr>\n",
       "      <th>enters</th>\n",
       "      <td>5</td>\n",
       "      <td>enters</td>\n",
       "    </tr>\n",
       "    <tr>\n",
       "      <th>banks</th>\n",
       "      <td>5</td>\n",
       "      <td>banks</td>\n",
       "    </tr>\n",
       "  </tbody>\n",
       "</table>\n",
       "</div>"
      ],
      "text/plain": [
       "                    0          keywords\n",
       "bankofamerica     103     bankofamerica\n",
       "bank               51              bank\n",
       "america            38           america\n",
       "bac                25               bac\n",
       "miketyson          14         miketyson\n",
       "solana             14            solana\n",
       "sol                14               sol\n",
       "medium             14            medium\n",
       "boa                12               boa\n",
       "one                12               one\n",
       "money              11             money\n",
       "stock              10             stock\n",
       "company            10           company\n",
       "back               10              back\n",
       "amp                 9               amp\n",
       "like                8              like\n",
       "ethereum            8          ethereum\n",
       "inc                 8               inc\n",
       "mike                8              mike\n",
       "boss                7              boss\n",
       "cryptocurrencies    7  cryptocurrencies\n",
       "via                 7               via\n",
       "bofa                7              bofa\n",
       "tyson               7             tyson\n",
       "writingservices     7   writingservices\n",
       "pensignal           7         pensignal\n",
       "blogging            7          blogging\n",
       "seo                 7               seo\n",
       "iron                7              iron\n",
       "stephen             7           stephen\n",
       "writerscommunity    7  writerscommunity\n",
       "writerslift         7       writerslift\n",
       "dalton              7            dalton\n",
       "uptrend             7           uptrend\n",
       "cupcakes            6          cupcakes\n",
       "get                 6               get\n",
       "march               6             march\n",
       "day                 6               day\n",
       "price               6             price\n",
       "banking             6           banking\n",
       "stockmarket         6       stockmarket\n",
       "largest             6           largest\n",
       "turning             6           turning\n",
       "band                5              band\n",
       "bollinger           5         bollinger\n",
       "eth                 5               eth\n",
       "lower               5             lower\n",
       "corp                5              corp\n",
       "enters              5            enters\n",
       "banks               5             banks"
      ]
     },
     "execution_count": 104,
     "metadata": {},
     "output_type": "execute_result"
    }
   ],
   "source": [
    "new_data"
   ]
  },
  {
   "cell_type": "code",
   "execution_count": 107,
   "id": "ec11ff66",
   "metadata": {},
   "outputs": [],
   "source": [
    "w = wordcloud.WordCloud(background_color=\"white\")  \n"
   ]
  },
  {
   "cell_type": "code",
   "execution_count": 122,
   "id": "e0c3f661",
   "metadata": {},
   "outputs": [],
   "source": [
    "\n",
    "def newsfunction(a):\n",
    "    res = str()\n",
    "    for i in a:\n",
    "        res +=','\n",
    "        res += i\n",
    "    return ''.join(res)\n",
    "    \n",
    "    "
   ]
  },
  {
   "cell_type": "code",
   "execution_count": 123,
   "id": "34e829b6",
   "metadata": {},
   "outputs": [
    {
     "data": {
      "text/plain": [
       "',bankofamerica,bank,america,bac,miketyson,solana,sol,medium,boa,one,money,stock,company,back,amp,like,ethereum,inc,mike,boss,cryptocurrencies,via,bofa,tyson,writingservices,pensignal,blogging,seo,iron,stephen,writerscommunity,writerslift,dalton,uptrend,cupcakes,get,march,day,price,banking,stockmarket,largest,turning,band,bollinger,eth,lower,corp,enters,banks'"
      ]
     },
     "execution_count": 123,
     "metadata": {},
     "output_type": "execute_result"
    }
   ],
   "source": [
    "abc = newsfunction(new_data['keywords'])\n",
    "abc "
   ]
  },
  {
   "cell_type": "code",
   "execution_count": 124,
   "id": "078dcdc6",
   "metadata": {},
   "outputs": [
    {
     "data": {
      "text/plain": [
       "<wordcloud.wordcloud.WordCloud at 0x7f92a5a82a30>"
      ]
     },
     "execution_count": 124,
     "metadata": {},
     "output_type": "execute_result"
    }
   ],
   "source": [
    "w.generate(abc)"
   ]
  },
  {
   "cell_type": "code",
   "execution_count": 125,
   "id": "2b5ef6c7",
   "metadata": {},
   "outputs": [
    {
     "data": {
      "text/plain": [
       "<wordcloud.wordcloud.WordCloud at 0x7f92a5a82a30>"
      ]
     },
     "execution_count": 125,
     "metadata": {},
     "output_type": "execute_result"
    }
   ],
   "source": [
    "w.to_file(\"pywordcloud2.png\")"
   ]
  },
  {
   "attachments": {
    "pywordcloud2.png": {
     "image/png": "[encoded data removed]"
    }
   },
   "cell_type": "markdown",
   "id": "4d2ad1fc",
   "metadata": {},
   "source": [
    "![pywordcloud2.png](attachment:pywordcloud2.png)"
   ]
  },
  {
   "cell_type": "code",
   "execution_count": null,
   "id": "e1dd58e6",
   "metadata": {},
   "outputs": [],
   "source": []
  }
 ],
 "metadata": {
  "kernelspec": {
   "display_name": "Python 3",
   "language": "python",
   "name": "python3"
  },
  "language_info": {
   "codemirror_mode": {
    "name": "ipython",
    "version": 3
   },
   "file_extension": ".py",
   "mimetype": "text/x-python",
   "name": "python",
   "nbconvert_exporter": "python",
   "pygments_lexer": "ipython3",
   "version": "3.8.8"
  }
 },
 "nbformat": 4,
 "nbformat_minor": 5
}
